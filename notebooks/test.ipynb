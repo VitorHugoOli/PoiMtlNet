{
 "cells": [
  {
   "cell_type": "code",
   "id": "initial_id",
   "metadata": {
    "collapsed": true,
    "ExecuteTime": {
     "end_time": "2025-05-06T23:11:43.183442Z",
     "start_time": "2025-05-06T23:11:42.883422Z"
    }
   },
   "source": "import pandas as pd",
   "outputs": [],
   "execution_count": 2
  },
  {
   "metadata": {
    "ExecuteTime": {
     "end_time": "2025-05-07T02:13:04.845780Z",
     "start_time": "2025-05-07T02:13:02.382434Z"
    }
   },
   "cell_type": "code",
   "source": "florida = pd.read_csv('/Users/vitor/Desktop/mestrado/ingred/data/checkins/Florida.csv')",
   "id": "f4225cd66ceb7e26",
   "outputs": [],
   "execution_count": 12
  },
  {
   "metadata": {
    "ExecuteTime": {
     "end_time": "2025-05-07T02:13:04.874103Z",
     "start_time": "2025-05-07T02:13:04.861960Z"
    }
   },
   "cell_type": "code",
   "source": "florida.placeid.nunique()",
   "id": "30d1a76ce033b10",
   "outputs": [
    {
     "data": {
      "text/plain": [
       "74381"
      ]
     },
     "execution_count": 13,
     "metadata": {},
     "output_type": "execute_result"
    }
   ],
   "execution_count": 13
  },
  {
   "metadata": {
    "ExecuteTime": {
     "end_time": "2025-05-06T23:12:18.769743Z",
     "start_time": "2025-05-06T23:12:16.460397Z"
    }
   },
   "cell_type": "code",
   "source": "filter_new = pd.read_csv(\"/Users/vitor/Desktop/mestrado/ingred/data/output/florida_test/filtrado.csv\")",
   "id": "df2eab5dc2152cd1",
   "outputs": [],
   "execution_count": 5
  },
  {
   "metadata": {
    "ExecuteTime": {
     "end_time": "2025-05-06T23:12:19.436031Z",
     "start_time": "2025-05-06T23:12:19.418980Z"
    }
   },
   "cell_type": "code",
   "source": "filter_new.placeid.nunique()",
   "id": "c4fa666a6a531aa1",
   "outputs": [
    {
     "data": {
      "text/plain": [
       "73750"
      ]
     },
     "execution_count": 6,
     "metadata": {},
     "output_type": "execute_result"
    }
   ],
   "execution_count": 6
  },
  {
   "metadata": {
    "ExecuteTime": {
     "end_time": "2025-05-07T02:13:27.281785Z",
     "start_time": "2025-05-07T02:13:26.997969Z"
    }
   },
   "cell_type": "code",
   "source": "embb_test = pd.read_csv(\"/Users/vitor/Desktop/mestrado/ingred/data/output/florida_test/embeddings.csv\")",
   "id": "4aa688ae3ac34d13",
   "outputs": [],
   "execution_count": 16
  },
  {
   "metadata": {
    "ExecuteTime": {
     "end_time": "2025-05-07T02:13:27.905068Z",
     "start_time": "2025-05-07T02:13:27.898870Z"
    }
   },
   "cell_type": "code",
   "source": "embb_test.placeid.nunique()",
   "id": "8784319f243a5b0b",
   "outputs": [
    {
     "data": {
      "text/plain": [
       "65067"
      ]
     },
     "execution_count": 17,
     "metadata": {},
     "output_type": "execute_result"
    }
   ],
   "execution_count": 17
  },
  {
   "metadata": {
    "ExecuteTime": {
     "end_time": "2025-05-04T15:35:31.765711Z",
     "start_time": "2025-05-04T15:35:30.942728Z"
    }
   },
   "cell_type": "code",
   "source": "embb_new = pd.read_csv(\"/Users/vitor/Desktop/mestrado/ingred/data/output/florida_new/florida_new-embeddings.csv\")",
   "id": "1c56fc4819a257fd",
   "outputs": [],
   "execution_count": 13
  },
  {
   "metadata": {
    "ExecuteTime": {
     "end_time": "2025-05-04T15:35:41.642411Z",
     "start_time": "2025-05-04T15:35:41.636196Z"
    }
   },
   "cell_type": "code",
   "source": "embb_new.placeid.nunique()",
   "id": "e7120f8f692576d5",
   "outputs": [
    {
     "data": {
      "text/plain": [
       "71952"
      ]
     },
     "execution_count": 14,
     "metadata": {},
     "output_type": "execute_result"
    }
   ],
   "execution_count": 14
  },
  {
   "metadata": {
    "ExecuteTime": {
     "end_time": "2025-05-06T23:12:27.986582Z",
     "start_time": "2025-05-06T23:12:27.877265Z"
    }
   },
   "cell_type": "code",
   "source": [
    "# get the filter_new and get only the placeid that are in embb_test\n",
    "filter_test = filter_new[filter_new.placeid.isin(embb_test.placeid)]"
   ],
   "id": "4b238a614ad6f169",
   "outputs": [],
   "execution_count": 7
  },
  {
   "metadata": {
    "ExecuteTime": {
     "end_time": "2025-05-06T23:12:28.560598Z",
     "start_time": "2025-05-06T23:12:28.546163Z"
    }
   },
   "cell_type": "code",
   "source": "filter_test.placeid.nunique()",
   "id": "3726fd05f04b37cd",
   "outputs": [
    {
     "data": {
      "text/plain": [
       "64454"
      ]
     },
     "execution_count": 8,
     "metadata": {},
     "output_type": "execute_result"
    }
   ],
   "execution_count": 8
  },
  {
   "metadata": {
    "ExecuteTime": {
     "end_time": "2025-05-07T02:13:17.953460Z",
     "start_time": "2025-05-07T02:13:17.848348Z"
    }
   },
   "cell_type": "code",
   "source": "florida_test = florida[florida.placeid.isin(embb_test.placeid)]",
   "id": "454d9f00e7b07430",
   "outputs": [],
   "execution_count": 14
  },
  {
   "metadata": {
    "ExecuteTime": {
     "end_time": "2025-05-07T02:13:19.135474Z",
     "start_time": "2025-05-07T02:13:19.124209Z"
    }
   },
   "cell_type": "code",
   "source": "florida_test.placeid.nunique()",
   "id": "b09f8a247df2cedd",
   "outputs": [
    {
     "data": {
      "text/plain": [
       "65009"
      ]
     },
     "execution_count": 15,
     "metadata": {},
     "output_type": "execute_result"
    }
   ],
   "execution_count": 15
  },
  {
   "metadata": {
    "ExecuteTime": {
     "end_time": "2025-05-06T23:24:31.531855Z",
     "start_time": "2025-05-06T23:24:31.520713Z"
    }
   },
   "cell_type": "code",
   "source": "filter_test",
   "id": "e728470648c274c0",
   "outputs": [
    {
     "data": {
      "text/plain": [
       "          userid  placeid             datetime            created_at  \\\n",
       "0          14543   758476  2010-03-01 19:26:26  2010-03-20T22:42:26Z   \n",
       "1          14543   229295  2010-03-01 17:16:49  2009-12-18T18:07:54Z   \n",
       "6          14543   135276  2010-02-28 00:18:53  2009-11-26T19:15:31Z   \n",
       "7          14543   230533  2010-02-28 00:15:23  2009-12-18T21:02:07Z   \n",
       "8          14543    16719  2010-02-28 00:13:53  2009-07-05T16:10:43Z   \n",
       "...          ...      ...                  ...                   ...   \n",
       "1353154  1021564    31707  2010-09-19 12:04:20  2009-09-29T10:01:06Z   \n",
       "1353155  1021564   528889  2010-09-19 12:03:25  2010-02-08T18:28:46Z   \n",
       "1353156  1021564    30701  2010-09-18 15:13:43  2009-09-27T19:08:57Z   \n",
       "1353157  1021564   812458  2010-09-14 02:03:52  2010-03-27T22:56:13Z   \n",
       "1353158  1021564   812458  2010-09-09 23:50:18  2010-03-27T22:56:13Z   \n",
       "\n",
       "         longitude   latitude  photos_count  checkins_count  users_count  \\\n",
       "0       -81.307583  28.431110           347           12006         5624   \n",
       "1       -81.472943  28.437108             5              80           74   \n",
       "6       -81.466418  28.474550             6             190          162   \n",
       "7       -81.468065  28.475642             5             242          226   \n",
       "8       -81.466818  28.477938             5             256          218   \n",
       "...            ...        ...           ...             ...          ...   \n",
       "1353154 -82.534693  27.980939           108            3753         1725   \n",
       "1353155 -82.531979  27.982928             3             189          132   \n",
       "1353156 -82.520714  27.964594            14             652          309   \n",
       "1353157 -82.766098  28.078650             9              37            8   \n",
       "1353158 -82.766098  28.078650             9              37            8   \n",
       "\n",
       "         radius_meters  highlights_count  items_count  max_items_count  \\\n",
       "0                 2250                22           11               10   \n",
       "1                   75                 0            3               10   \n",
       "6                   50                 0           10               10   \n",
       "7                   75                 0            7               10   \n",
       "8                   50                 0            6               10   \n",
       "...                ...               ...          ...              ...   \n",
       "1353154           2000                 7           10               10   \n",
       "1353155            250                 0           10               10   \n",
       "1353156            300                 1           10               10   \n",
       "1353157             75                 1            4               10   \n",
       "1353158             75                 1            4               10   \n",
       "\n",
       "                                           spot_categories  detailed  \\\n",
       "0           [{'url': '/categories/45', 'name': 'Airport'}]      True   \n",
       "1           [{'url': '/categories/19', 'name': 'Italian'}]      True   \n",
       "6          [{'url': '/categories/63', 'name': 'Monument'}]      True   \n",
       "7        [{'url': '/categories/75', 'name': 'Theme Park'}]      True   \n",
       "8        [{'url': '/categories/75', 'name': 'Theme Park'}]      True   \n",
       "...                                                    ...       ...   \n",
       "1353154     [{'url': '/categories/45', 'name': 'Airport'}]      True   \n",
       "1353155   [{'url': '/categories/224', 'name': 'Terminal'}]      True   \n",
       "1353156        [{'url': '/categories/11', 'name': 'Mall'}]      True   \n",
       "1353157        [{'url': '/categories/241', 'name': 'Bar'}]      True   \n",
       "1353158        [{'url': '/categories/241', 'name': 'Bar'}]      True   \n",
       "\n",
       "               spot       category           datetime.1 state_name  \\\n",
       "0           Airport         Travel  2010-03-01 14:26:26    Florida   \n",
       "1           Italian           Food  2010-03-01 12:16:49    Florida   \n",
       "6          Monument       Outdoors  2010-02-27 19:18:53    Florida   \n",
       "7        Theme Park  Entertainment  2010-02-27 19:15:23    Florida   \n",
       "8        Theme Park  Entertainment  2010-02-27 19:13:53    Florida   \n",
       "...             ...            ...                  ...        ...   \n",
       "1353154     Airport         Travel  2010-09-19 08:04:20    Florida   \n",
       "1353155    Terminal         Travel  2010-09-19 08:03:25    Florida   \n",
       "1353156        Mall       Shopping  2010-09-18 11:13:43    Florida   \n",
       "1353157         Bar      Nightlife  2010-09-13 22:03:52    Florida   \n",
       "1353158         Bar      Nightlife  2010-09-09 19:50:18    Florida   \n",
       "\n",
       "                     country_name  \n",
       "0        United States of America  \n",
       "1        United States of America  \n",
       "6        United States of America  \n",
       "7        United States of America  \n",
       "8        United States of America  \n",
       "...                           ...  \n",
       "1353154  United States of America  \n",
       "1353155  United States of America  \n",
       "1353156  United States of America  \n",
       "1353157  United States of America  \n",
       "1353158  United States of America  \n",
       "\n",
       "[960520 rows x 20 columns]"
      ],
      "text/html": [
       "<div>\n",
       "<style scoped>\n",
       "    .dataframe tbody tr th:only-of-type {\n",
       "        vertical-align: middle;\n",
       "    }\n",
       "\n",
       "    .dataframe tbody tr th {\n",
       "        vertical-align: top;\n",
       "    }\n",
       "\n",
       "    .dataframe thead th {\n",
       "        text-align: right;\n",
       "    }\n",
       "</style>\n",
       "<table border=\"1\" class=\"dataframe\">\n",
       "  <thead>\n",
       "    <tr style=\"text-align: right;\">\n",
       "      <th></th>\n",
       "      <th>userid</th>\n",
       "      <th>placeid</th>\n",
       "      <th>datetime</th>\n",
       "      <th>created_at</th>\n",
       "      <th>longitude</th>\n",
       "      <th>latitude</th>\n",
       "      <th>photos_count</th>\n",
       "      <th>checkins_count</th>\n",
       "      <th>users_count</th>\n",
       "      <th>radius_meters</th>\n",
       "      <th>highlights_count</th>\n",
       "      <th>items_count</th>\n",
       "      <th>max_items_count</th>\n",
       "      <th>spot_categories</th>\n",
       "      <th>detailed</th>\n",
       "      <th>spot</th>\n",
       "      <th>category</th>\n",
       "      <th>datetime.1</th>\n",
       "      <th>state_name</th>\n",
       "      <th>country_name</th>\n",
       "    </tr>\n",
       "  </thead>\n",
       "  <tbody>\n",
       "    <tr>\n",
       "      <th>0</th>\n",
       "      <td>14543</td>\n",
       "      <td>758476</td>\n",
       "      <td>2010-03-01 19:26:26</td>\n",
       "      <td>2010-03-20T22:42:26Z</td>\n",
       "      <td>-81.307583</td>\n",
       "      <td>28.431110</td>\n",
       "      <td>347</td>\n",
       "      <td>12006</td>\n",
       "      <td>5624</td>\n",
       "      <td>2250</td>\n",
       "      <td>22</td>\n",
       "      <td>11</td>\n",
       "      <td>10</td>\n",
       "      <td>[{'url': '/categories/45', 'name': 'Airport'}]</td>\n",
       "      <td>True</td>\n",
       "      <td>Airport</td>\n",
       "      <td>Travel</td>\n",
       "      <td>2010-03-01 14:26:26</td>\n",
       "      <td>Florida</td>\n",
       "      <td>United States of America</td>\n",
       "    </tr>\n",
       "    <tr>\n",
       "      <th>1</th>\n",
       "      <td>14543</td>\n",
       "      <td>229295</td>\n",
       "      <td>2010-03-01 17:16:49</td>\n",
       "      <td>2009-12-18T18:07:54Z</td>\n",
       "      <td>-81.472943</td>\n",
       "      <td>28.437108</td>\n",
       "      <td>5</td>\n",
       "      <td>80</td>\n",
       "      <td>74</td>\n",
       "      <td>75</td>\n",
       "      <td>0</td>\n",
       "      <td>3</td>\n",
       "      <td>10</td>\n",
       "      <td>[{'url': '/categories/19', 'name': 'Italian'}]</td>\n",
       "      <td>True</td>\n",
       "      <td>Italian</td>\n",
       "      <td>Food</td>\n",
       "      <td>2010-03-01 12:16:49</td>\n",
       "      <td>Florida</td>\n",
       "      <td>United States of America</td>\n",
       "    </tr>\n",
       "    <tr>\n",
       "      <th>6</th>\n",
       "      <td>14543</td>\n",
       "      <td>135276</td>\n",
       "      <td>2010-02-28 00:18:53</td>\n",
       "      <td>2009-11-26T19:15:31Z</td>\n",
       "      <td>-81.466418</td>\n",
       "      <td>28.474550</td>\n",
       "      <td>6</td>\n",
       "      <td>190</td>\n",
       "      <td>162</td>\n",
       "      <td>50</td>\n",
       "      <td>0</td>\n",
       "      <td>10</td>\n",
       "      <td>10</td>\n",
       "      <td>[{'url': '/categories/63', 'name': 'Monument'}]</td>\n",
       "      <td>True</td>\n",
       "      <td>Monument</td>\n",
       "      <td>Outdoors</td>\n",
       "      <td>2010-02-27 19:18:53</td>\n",
       "      <td>Florida</td>\n",
       "      <td>United States of America</td>\n",
       "    </tr>\n",
       "    <tr>\n",
       "      <th>7</th>\n",
       "      <td>14543</td>\n",
       "      <td>230533</td>\n",
       "      <td>2010-02-28 00:15:23</td>\n",
       "      <td>2009-12-18T21:02:07Z</td>\n",
       "      <td>-81.468065</td>\n",
       "      <td>28.475642</td>\n",
       "      <td>5</td>\n",
       "      <td>242</td>\n",
       "      <td>226</td>\n",
       "      <td>75</td>\n",
       "      <td>0</td>\n",
       "      <td>7</td>\n",
       "      <td>10</td>\n",
       "      <td>[{'url': '/categories/75', 'name': 'Theme Park'}]</td>\n",
       "      <td>True</td>\n",
       "      <td>Theme Park</td>\n",
       "      <td>Entertainment</td>\n",
       "      <td>2010-02-27 19:15:23</td>\n",
       "      <td>Florida</td>\n",
       "      <td>United States of America</td>\n",
       "    </tr>\n",
       "    <tr>\n",
       "      <th>8</th>\n",
       "      <td>14543</td>\n",
       "      <td>16719</td>\n",
       "      <td>2010-02-28 00:13:53</td>\n",
       "      <td>2009-07-05T16:10:43Z</td>\n",
       "      <td>-81.466818</td>\n",
       "      <td>28.477938</td>\n",
       "      <td>5</td>\n",
       "      <td>256</td>\n",
       "      <td>218</td>\n",
       "      <td>50</td>\n",
       "      <td>0</td>\n",
       "      <td>6</td>\n",
       "      <td>10</td>\n",
       "      <td>[{'url': '/categories/75', 'name': 'Theme Park'}]</td>\n",
       "      <td>True</td>\n",
       "      <td>Theme Park</td>\n",
       "      <td>Entertainment</td>\n",
       "      <td>2010-02-27 19:13:53</td>\n",
       "      <td>Florida</td>\n",
       "      <td>United States of America</td>\n",
       "    </tr>\n",
       "    <tr>\n",
       "      <th>...</th>\n",
       "      <td>...</td>\n",
       "      <td>...</td>\n",
       "      <td>...</td>\n",
       "      <td>...</td>\n",
       "      <td>...</td>\n",
       "      <td>...</td>\n",
       "      <td>...</td>\n",
       "      <td>...</td>\n",
       "      <td>...</td>\n",
       "      <td>...</td>\n",
       "      <td>...</td>\n",
       "      <td>...</td>\n",
       "      <td>...</td>\n",
       "      <td>...</td>\n",
       "      <td>...</td>\n",
       "      <td>...</td>\n",
       "      <td>...</td>\n",
       "      <td>...</td>\n",
       "      <td>...</td>\n",
       "      <td>...</td>\n",
       "    </tr>\n",
       "    <tr>\n",
       "      <th>1353154</th>\n",
       "      <td>1021564</td>\n",
       "      <td>31707</td>\n",
       "      <td>2010-09-19 12:04:20</td>\n",
       "      <td>2009-09-29T10:01:06Z</td>\n",
       "      <td>-82.534693</td>\n",
       "      <td>27.980939</td>\n",
       "      <td>108</td>\n",
       "      <td>3753</td>\n",
       "      <td>1725</td>\n",
       "      <td>2000</td>\n",
       "      <td>7</td>\n",
       "      <td>10</td>\n",
       "      <td>10</td>\n",
       "      <td>[{'url': '/categories/45', 'name': 'Airport'}]</td>\n",
       "      <td>True</td>\n",
       "      <td>Airport</td>\n",
       "      <td>Travel</td>\n",
       "      <td>2010-09-19 08:04:20</td>\n",
       "      <td>Florida</td>\n",
       "      <td>United States of America</td>\n",
       "    </tr>\n",
       "    <tr>\n",
       "      <th>1353155</th>\n",
       "      <td>1021564</td>\n",
       "      <td>528889</td>\n",
       "      <td>2010-09-19 12:03:25</td>\n",
       "      <td>2010-02-08T18:28:46Z</td>\n",
       "      <td>-82.531979</td>\n",
       "      <td>27.982928</td>\n",
       "      <td>3</td>\n",
       "      <td>189</td>\n",
       "      <td>132</td>\n",
       "      <td>250</td>\n",
       "      <td>0</td>\n",
       "      <td>10</td>\n",
       "      <td>10</td>\n",
       "      <td>[{'url': '/categories/224', 'name': 'Terminal'}]</td>\n",
       "      <td>True</td>\n",
       "      <td>Terminal</td>\n",
       "      <td>Travel</td>\n",
       "      <td>2010-09-19 08:03:25</td>\n",
       "      <td>Florida</td>\n",
       "      <td>United States of America</td>\n",
       "    </tr>\n",
       "    <tr>\n",
       "      <th>1353156</th>\n",
       "      <td>1021564</td>\n",
       "      <td>30701</td>\n",
       "      <td>2010-09-18 15:13:43</td>\n",
       "      <td>2009-09-27T19:08:57Z</td>\n",
       "      <td>-82.520714</td>\n",
       "      <td>27.964594</td>\n",
       "      <td>14</td>\n",
       "      <td>652</td>\n",
       "      <td>309</td>\n",
       "      <td>300</td>\n",
       "      <td>1</td>\n",
       "      <td>10</td>\n",
       "      <td>10</td>\n",
       "      <td>[{'url': '/categories/11', 'name': 'Mall'}]</td>\n",
       "      <td>True</td>\n",
       "      <td>Mall</td>\n",
       "      <td>Shopping</td>\n",
       "      <td>2010-09-18 11:13:43</td>\n",
       "      <td>Florida</td>\n",
       "      <td>United States of America</td>\n",
       "    </tr>\n",
       "    <tr>\n",
       "      <th>1353157</th>\n",
       "      <td>1021564</td>\n",
       "      <td>812458</td>\n",
       "      <td>2010-09-14 02:03:52</td>\n",
       "      <td>2010-03-27T22:56:13Z</td>\n",
       "      <td>-82.766098</td>\n",
       "      <td>28.078650</td>\n",
       "      <td>9</td>\n",
       "      <td>37</td>\n",
       "      <td>8</td>\n",
       "      <td>75</td>\n",
       "      <td>1</td>\n",
       "      <td>4</td>\n",
       "      <td>10</td>\n",
       "      <td>[{'url': '/categories/241', 'name': 'Bar'}]</td>\n",
       "      <td>True</td>\n",
       "      <td>Bar</td>\n",
       "      <td>Nightlife</td>\n",
       "      <td>2010-09-13 22:03:52</td>\n",
       "      <td>Florida</td>\n",
       "      <td>United States of America</td>\n",
       "    </tr>\n",
       "    <tr>\n",
       "      <th>1353158</th>\n",
       "      <td>1021564</td>\n",
       "      <td>812458</td>\n",
       "      <td>2010-09-09 23:50:18</td>\n",
       "      <td>2010-03-27T22:56:13Z</td>\n",
       "      <td>-82.766098</td>\n",
       "      <td>28.078650</td>\n",
       "      <td>9</td>\n",
       "      <td>37</td>\n",
       "      <td>8</td>\n",
       "      <td>75</td>\n",
       "      <td>1</td>\n",
       "      <td>4</td>\n",
       "      <td>10</td>\n",
       "      <td>[{'url': '/categories/241', 'name': 'Bar'}]</td>\n",
       "      <td>True</td>\n",
       "      <td>Bar</td>\n",
       "      <td>Nightlife</td>\n",
       "      <td>2010-09-09 19:50:18</td>\n",
       "      <td>Florida</td>\n",
       "      <td>United States of America</td>\n",
       "    </tr>\n",
       "  </tbody>\n",
       "</table>\n",
       "<p>960520 rows × 20 columns</p>\n",
       "</div>"
      ]
     },
     "execution_count": 11,
     "metadata": {},
     "output_type": "execute_result"
    }
   ],
   "execution_count": 11
  },
  {
   "metadata": {
    "ExecuteTime": {
     "end_time": "2025-05-06T23:13:18.776400Z",
     "start_time": "2025-05-06T23:13:14.119050Z"
    }
   },
   "cell_type": "code",
   "source": "filter_test.to_csv(\"/Users/vitor/Desktop/mestrado/ingred/data/output/florida_test/filtrado.csv\")",
   "id": "dcab82dda5659d00",
   "outputs": [],
   "execution_count": 10
  },
  {
   "metadata": {},
   "cell_type": "code",
   "outputs": [],
   "execution_count": null,
   "source": "",
   "id": "52cecf86c50ac2c8"
  }
 ],
 "metadata": {
  "kernelspec": {
   "display_name": "Python 3",
   "language": "python",
   "name": "python3"
  },
  "language_info": {
   "codemirror_mode": {
    "name": "ipython",
    "version": 2
   },
   "file_extension": ".py",
   "mimetype": "text/x-python",
   "name": "python",
   "nbconvert_exporter": "python",
   "pygments_lexer": "ipython2",
   "version": "2.7.6"
  }
 },
 "nbformat": 4,
 "nbformat_minor": 5
}
