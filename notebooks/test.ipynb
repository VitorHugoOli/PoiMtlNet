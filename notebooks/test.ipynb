{
 "cells": [
  {
   "cell_type": "code",
   "id": "initial_id",
   "metadata": {
    "collapsed": true,
    "ExecuteTime": {
     "end_time": "2025-05-04T15:32:02.578630Z",
     "start_time": "2025-05-04T15:32:02.233998Z"
    }
   },
   "source": "import pandas as pd",
   "outputs": [],
   "execution_count": 1
  },
  {
   "metadata": {
    "ExecuteTime": {
     "end_time": "2025-05-04T15:32:43.382884Z",
     "start_time": "2025-05-04T15:32:40.871935Z"
    }
   },
   "cell_type": "code",
   "source": "florida = pd.read_csv('/Users/vitor/Desktop/mestrado/ingred/data/checkins/Florida.csv')",
   "id": "f4225cd66ceb7e26",
   "outputs": [],
   "execution_count": 2
  },
  {
   "metadata": {
    "ExecuteTime": {
     "end_time": "2025-05-04T15:33:03.662642Z",
     "start_time": "2025-05-04T15:33:03.646236Z"
    }
   },
   "cell_type": "code",
   "source": "florida.placeid.nunique()",
   "id": "30d1a76ce033b10",
   "outputs": [
    {
     "data": {
      "text/plain": [
       "74381"
      ]
     },
     "execution_count": 6,
     "metadata": {},
     "output_type": "execute_result"
    }
   ],
   "execution_count": 6
  },
  {
   "metadata": {
    "ExecuteTime": {
     "end_time": "2025-05-04T15:33:35.413934Z",
     "start_time": "2025-05-04T15:33:33.256749Z"
    }
   },
   "cell_type": "code",
   "source": "filter_new = pd.read_csv(\"/Users/vitor/Desktop/mestrado/ingred/data/output/florida_new/florida_new-filtrado.csv\")",
   "id": "df2eab5dc2152cd1",
   "outputs": [],
   "execution_count": 7
  },
  {
   "metadata": {
    "ExecuteTime": {
     "end_time": "2025-05-04T15:33:43.497407Z",
     "start_time": "2025-05-04T15:33:43.481784Z"
    }
   },
   "cell_type": "code",
   "source": "filter_new.placeid.nunique()",
   "id": "c4fa666a6a531aa1",
   "outputs": [
    {
     "data": {
      "text/plain": [
       "71952"
      ]
     },
     "execution_count": 8,
     "metadata": {},
     "output_type": "execute_result"
    }
   ],
   "execution_count": 8
  },
  {
   "metadata": {
    "ExecuteTime": {
     "end_time": "2025-05-04T15:34:47.233102Z",
     "start_time": "2025-05-04T15:34:46.953555Z"
    }
   },
   "cell_type": "code",
   "source": "embb_test = pd.read_csv(\"/Users/vitor/Desktop/mestrado/ingred/data/output/florida_test/embeddings.csv\")",
   "id": "4aa688ae3ac34d13",
   "outputs": [],
   "execution_count": 11
  },
  {
   "metadata": {
    "ExecuteTime": {
     "end_time": "2025-05-04T15:34:52.231416Z",
     "start_time": "2025-05-04T15:34:52.226927Z"
    }
   },
   "cell_type": "code",
   "source": "embb_test.placeid.nunique()",
   "id": "8784319f243a5b0b",
   "outputs": [
    {
     "data": {
      "text/plain": [
       "65067"
      ]
     },
     "execution_count": 12,
     "metadata": {},
     "output_type": "execute_result"
    }
   ],
   "execution_count": 12
  },
  {
   "metadata": {
    "ExecuteTime": {
     "end_time": "2025-05-04T15:35:31.765711Z",
     "start_time": "2025-05-04T15:35:30.942728Z"
    }
   },
   "cell_type": "code",
   "source": "embb_new = pd.read_csv(\"/Users/vitor/Desktop/mestrado/ingred/data/output/florida_new/florida_new-embeddings.csv\")",
   "id": "1c56fc4819a257fd",
   "outputs": [],
   "execution_count": 13
  },
  {
   "metadata": {
    "ExecuteTime": {
     "end_time": "2025-05-04T15:35:41.642411Z",
     "start_time": "2025-05-04T15:35:41.636196Z"
    }
   },
   "cell_type": "code",
   "source": "embb_new.placeid.nunique()",
   "id": "e7120f8f692576d5",
   "outputs": [
    {
     "data": {
      "text/plain": [
       "71952"
      ]
     },
     "execution_count": 14,
     "metadata": {},
     "output_type": "execute_result"
    }
   ],
   "execution_count": 14
  },
  {
   "metadata": {
    "ExecuteTime": {
     "end_time": "2025-05-04T15:37:32.417003Z",
     "start_time": "2025-05-04T15:37:32.317638Z"
    }
   },
   "cell_type": "code",
   "source": [
    "# get the filter_new and get only the placeid that are in embb_test\n",
    "filter_test = filter_new[filter_new.placeid.isin(embb_test.placeid)]"
   ],
   "id": "4b238a614ad6f169",
   "outputs": [],
   "execution_count": 19
  },
  {
   "metadata": {
    "ExecuteTime": {
     "end_time": "2025-05-04T15:37:32.685454Z",
     "start_time": "2025-05-04T15:37:32.673354Z"
    }
   },
   "cell_type": "code",
   "source": "filter_test.placeid.nunique()",
   "id": "3726fd05f04b37cd",
   "outputs": [
    {
     "data": {
      "text/plain": [
       "62818"
      ]
     },
     "execution_count": 20,
     "metadata": {},
     "output_type": "execute_result"
    }
   ],
   "execution_count": 20
  },
  {
   "metadata": {
    "ExecuteTime": {
     "end_time": "2025-05-04T15:38:06.579920Z",
     "start_time": "2025-05-04T15:38:06.431527Z"
    }
   },
   "cell_type": "code",
   "source": "florida_test = florida[florida.placeid.isin(embb_test.placeid)]",
   "id": "454d9f00e7b07430",
   "outputs": [],
   "execution_count": 21
  },
  {
   "metadata": {
    "ExecuteTime": {
     "end_time": "2025-05-04T15:38:11.033072Z",
     "start_time": "2025-05-04T15:38:11.023925Z"
    }
   },
   "cell_type": "code",
   "source": "florida_test.placeid.nunique()",
   "id": "b09f8a247df2cedd",
   "outputs": [
    {
     "data": {
      "text/plain": [
       "65009"
      ]
     },
     "execution_count": 22,
     "metadata": {},
     "output_type": "execute_result"
    }
   ],
   "execution_count": 22
  },
  {
   "metadata": {
    "ExecuteTime": {
     "end_time": "2025-05-04T15:39:27.938445Z",
     "start_time": "2025-05-04T15:39:23.842123Z"
    }
   },
   "cell_type": "code",
   "source": "filter_test.to_csv(\"/Users/vitor/Desktop/mestrado/ingred/data/output/florida_test/filtrado.csv\")",
   "id": "dcab82dda5659d00",
   "outputs": [],
   "execution_count": 24
  },
  {
   "metadata": {},
   "cell_type": "code",
   "outputs": [],
   "execution_count": null,
   "source": "",
   "id": "52cecf86c50ac2c8"
  }
 ],
 "metadata": {
  "kernelspec": {
   "display_name": "Python 3",
   "language": "python",
   "name": "python3"
  },
  "language_info": {
   "codemirror_mode": {
    "name": "ipython",
    "version": 2
   },
   "file_extension": ".py",
   "mimetype": "text/x-python",
   "name": "python",
   "nbconvert_exporter": "python",
   "pygments_lexer": "ipython2",
   "version": "2.7.6"
  }
 },
 "nbformat": 4,
 "nbformat_minor": 5
}
