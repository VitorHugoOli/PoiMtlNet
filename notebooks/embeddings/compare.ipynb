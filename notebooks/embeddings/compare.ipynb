{
 "cells": [
  {
   "cell_type": "code",
   "id": "initial_id",
   "metadata": {
    "collapsed": true,
    "ExecuteTime": {
     "end_time": "2025-03-08T18:02:58.103773Z",
     "start_time": "2025-03-08T18:02:58.101623Z"
    }
   },
   "source": "import pandas as pd",
   "outputs": [],
   "execution_count": 3
  },
  {
   "metadata": {
    "ExecuteTime": {
     "end_time": "2025-03-08T18:02:58.424116Z",
     "start_time": "2025-03-08T18:02:58.421627Z"
    }
   },
   "cell_type": "code",
   "source": [
    "ROOT_PATH = '../../data'\n",
    "IO_PATH = f'{ROOT_PATH}/output'"
   ],
   "id": "2d732bec95581fc",
   "outputs": [],
   "execution_count": 4
  },
  {
   "metadata": {
    "ExecuteTime": {
     "end_time": "2025-03-08T18:02:58.907220Z",
     "start_time": "2025-03-08T18:02:58.800034Z"
    }
   },
   "cell_type": "code",
   "source": "df_alabama_ori = pd.read_csv(f'{ROOT_PATH}/alabama/categorypoi-input.csv')",
   "id": "65eb2fb8b4756acd",
   "outputs": [],
   "execution_count": 5
  },
  {
   "metadata": {
    "ExecuteTime": {
     "end_time": "2025-03-08T18:03:00.004226Z",
     "start_time": "2025-03-08T18:02:59.894128Z"
    }
   },
   "cell_type": "code",
   "source": "df_alabama_new = pd.read_csv(f'{IO_PATH}/alabama/alabama-embeddings.csv')",
   "id": "f9631921abd60516",
   "outputs": [],
   "execution_count": 6
  },
  {
   "metadata": {
    "ExecuteTime": {
     "end_time": "2025-03-08T18:03:00.731691Z",
     "start_time": "2025-03-08T18:03:00.724304Z"
    }
   },
   "cell_type": "code",
   "source": [
    "# get columns diff\n",
    "df_alabama_ori.columns.difference(df_alabama_new.columns)"
   ],
   "id": "72952ad11381fefe",
   "outputs": [
    {
     "data": {
      "text/plain": [
       "Index([], dtype='object')"
      ]
     },
     "execution_count": 7,
     "metadata": {},
     "output_type": "execute_result"
    }
   ],
   "execution_count": 7
  },
  {
   "metadata": {
    "ExecuteTime": {
     "end_time": "2025-03-08T18:03:01.236555Z",
     "start_time": "2025-03-08T18:03:01.233282Z"
    }
   },
   "cell_type": "code",
   "source": "df_alabama_new.columns.difference(df_alabama_ori.columns)",
   "id": "a549da043172212a",
   "outputs": [
    {
     "data": {
      "text/plain": [
       "Index([], dtype='object')"
      ]
     },
     "execution_count": 8,
     "metadata": {},
     "output_type": "execute_result"
    }
   ],
   "execution_count": 8
  },
  {
   "metadata": {
    "ExecuteTime": {
     "end_time": "2025-03-08T18:03:02.278590Z",
     "start_time": "2025-03-08T18:03:02.264732Z"
    }
   },
   "cell_type": "code",
   "source": [
    "# check if the content of the columns are the same\n",
    "for col in df_alabama_ori.columns:\n",
    "    if col in df_alabama_new.columns:\n",
    "        print(col)\n",
    "        print(df_alabama_ori[col].equals(df_alabama_new[col]))\n",
    "        print('---')"
   ],
   "id": "ea84ff9807aa256c",
   "outputs": [
    {
     "name": "stdout",
     "output_type": "stream",
     "text": [
      "placeid\n",
      "True\n",
      "---\n",
      "0\n",
      "False\n",
      "---\n",
      "1\n",
      "False\n",
      "---\n",
      "2\n",
      "False\n",
      "---\n",
      "3\n",
      "False\n",
      "---\n",
      "4\n",
      "False\n",
      "---\n",
      "5\n",
      "False\n",
      "---\n",
      "6\n",
      "False\n",
      "---\n",
      "7\n",
      "False\n",
      "---\n",
      "8\n",
      "False\n",
      "---\n",
      "9\n",
      "False\n",
      "---\n",
      "10\n",
      "False\n",
      "---\n",
      "11\n",
      "False\n",
      "---\n",
      "12\n",
      "False\n",
      "---\n",
      "13\n",
      "False\n",
      "---\n",
      "14\n",
      "False\n",
      "---\n",
      "15\n",
      "False\n",
      "---\n",
      "16\n",
      "False\n",
      "---\n",
      "17\n",
      "False\n",
      "---\n",
      "18\n",
      "False\n",
      "---\n",
      "19\n",
      "False\n",
      "---\n",
      "20\n",
      "False\n",
      "---\n",
      "21\n",
      "False\n",
      "---\n",
      "22\n",
      "False\n",
      "---\n",
      "23\n",
      "False\n",
      "---\n",
      "24\n",
      "False\n",
      "---\n",
      "25\n",
      "False\n",
      "---\n",
      "26\n",
      "False\n",
      "---\n",
      "27\n",
      "False\n",
      "---\n",
      "28\n",
      "False\n",
      "---\n",
      "29\n",
      "False\n",
      "---\n",
      "30\n",
      "False\n",
      "---\n",
      "31\n",
      "False\n",
      "---\n",
      "32\n",
      "False\n",
      "---\n",
      "33\n",
      "False\n",
      "---\n",
      "34\n",
      "False\n",
      "---\n",
      "35\n",
      "False\n",
      "---\n",
      "36\n",
      "False\n",
      "---\n",
      "37\n",
      "False\n",
      "---\n",
      "38\n",
      "False\n",
      "---\n",
      "39\n",
      "False\n",
      "---\n",
      "40\n",
      "False\n",
      "---\n",
      "41\n",
      "False\n",
      "---\n",
      "42\n",
      "False\n",
      "---\n",
      "43\n",
      "False\n",
      "---\n",
      "44\n",
      "False\n",
      "---\n",
      "45\n",
      "False\n",
      "---\n",
      "46\n",
      "False\n",
      "---\n",
      "47\n",
      "False\n",
      "---\n",
      "48\n",
      "False\n",
      "---\n",
      "49\n",
      "False\n",
      "---\n",
      "50\n",
      "False\n",
      "---\n",
      "51\n",
      "False\n",
      "---\n",
      "52\n",
      "False\n",
      "---\n",
      "53\n",
      "False\n",
      "---\n",
      "54\n",
      "False\n",
      "---\n",
      "55\n",
      "False\n",
      "---\n",
      "56\n",
      "False\n",
      "---\n",
      "57\n",
      "False\n",
      "---\n",
      "58\n",
      "False\n",
      "---\n",
      "59\n",
      "False\n",
      "---\n",
      "60\n",
      "False\n",
      "---\n",
      "61\n",
      "False\n",
      "---\n",
      "62\n",
      "False\n",
      "---\n",
      "63\n",
      "False\n",
      "---\n",
      "64\n",
      "False\n",
      "---\n",
      "65\n",
      "False\n",
      "---\n",
      "66\n",
      "False\n",
      "---\n",
      "67\n",
      "False\n",
      "---\n",
      "68\n",
      "False\n",
      "---\n",
      "69\n",
      "False\n",
      "---\n",
      "70\n",
      "False\n",
      "---\n",
      "71\n",
      "False\n",
      "---\n",
      "72\n",
      "False\n",
      "---\n",
      "73\n",
      "False\n",
      "---\n",
      "74\n",
      "False\n",
      "---\n",
      "75\n",
      "False\n",
      "---\n",
      "76\n",
      "False\n",
      "---\n",
      "77\n",
      "False\n",
      "---\n",
      "78\n",
      "False\n",
      "---\n",
      "79\n",
      "False\n",
      "---\n",
      "80\n",
      "False\n",
      "---\n",
      "81\n",
      "False\n",
      "---\n",
      "82\n",
      "False\n",
      "---\n",
      "83\n",
      "False\n",
      "---\n",
      "84\n",
      "False\n",
      "---\n",
      "85\n",
      "False\n",
      "---\n",
      "86\n",
      "False\n",
      "---\n",
      "87\n",
      "False\n",
      "---\n",
      "88\n",
      "False\n",
      "---\n",
      "89\n",
      "False\n",
      "---\n",
      "90\n",
      "False\n",
      "---\n",
      "91\n",
      "False\n",
      "---\n",
      "92\n",
      "False\n",
      "---\n",
      "93\n",
      "False\n",
      "---\n",
      "94\n",
      "False\n",
      "---\n",
      "95\n",
      "False\n",
      "---\n",
      "96\n",
      "False\n",
      "---\n",
      "97\n",
      "False\n",
      "---\n",
      "98\n",
      "False\n",
      "---\n",
      "99\n",
      "False\n",
      "---\n",
      "category\n",
      "True\n",
      "---\n"
     ]
    }
   ],
   "execution_count": 9
  },
  {
   "metadata": {
    "ExecuteTime": {
     "end_time": "2025-03-08T20:04:09.235353Z",
     "start_time": "2025-03-08T20:04:09.224197Z"
    }
   },
   "cell_type": "code",
   "source": "df_alabama_ori.iloc[0]",
   "id": "32ef3aacf33d194d",
   "outputs": [
    {
     "data": {
      "text/plain": [
       "placeid        16772\n",
       "0          -0.619073\n",
       "1          -3.092543\n",
       "2          -0.459157\n",
       "3           0.756665\n",
       "              ...   \n",
       "96          0.012059\n",
       "97         -0.007869\n",
       "98          0.009137\n",
       "99         -0.004369\n",
       "category      Travel\n",
       "Name: 0, Length: 102, dtype: object"
      ]
     },
     "execution_count": 12,
     "metadata": {},
     "output_type": "execute_result"
    }
   ],
   "execution_count": 12
  },
  {
   "metadata": {
    "ExecuteTime": {
     "end_time": "2025-03-08T18:03:10.297051Z",
     "start_time": "2025-03-08T18:03:10.291353Z"
    }
   },
   "cell_type": "code",
   "source": "df_alabama_new.iloc[0]",
   "id": "70d2c3263754ce02",
   "outputs": [
    {
     "data": {
      "text/plain": [
       "0           0.410195\n",
       "1           1.202852\n",
       "2           1.968337\n",
       "3           1.688477\n",
       "4          -0.980358\n",
       "              ...   \n",
       "97         -0.011929\n",
       "98          0.021642\n",
       "99          0.006417\n",
       "category      Travel\n",
       "placeid        16772\n",
       "Name: 0, Length: 102, dtype: object"
      ]
     },
     "execution_count": 11,
     "metadata": {},
     "output_type": "execute_result"
    }
   ],
   "execution_count": 11
  },
  {
   "metadata": {},
   "cell_type": "code",
   "outputs": [],
   "execution_count": null,
   "source": "",
   "id": "c6b0c971ff1feab6"
  }
 ],
 "metadata": {
  "kernelspec": {
   "display_name": "Python 3",
   "language": "python",
   "name": "python3"
  },
  "language_info": {
   "codemirror_mode": {
    "name": "ipython",
    "version": 2
   },
   "file_extension": ".py",
   "mimetype": "text/x-python",
   "name": "python",
   "nbconvert_exporter": "python",
   "pygments_lexer": "ipython2",
   "version": "2.7.6"
  }
 },
 "nbformat": 4,
 "nbformat_minor": 5
}
