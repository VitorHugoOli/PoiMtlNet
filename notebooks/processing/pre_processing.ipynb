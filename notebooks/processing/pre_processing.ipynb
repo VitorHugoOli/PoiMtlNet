{
 "cells": [
  {
   "cell_type": "code",
   "metadata": {
    "id": "TtwX3hXtPezp",
    "ExecuteTime": {
     "end_time": "2025-03-27T23:41:19.229256Z",
     "start_time": "2025-03-27T23:41:19.074442Z"
    }
   },
   "source": [
    "import pandas as pd\n",
    "import numpy as np\n",
    "\n",
    "from datetime import datetime\n",
    "import os"
   ],
   "outputs": [],
   "execution_count": 4
  },
  {
   "cell_type": "code",
   "metadata": {
    "id": "ySR82WWYvUfO",
    "ExecuteTime": {
     "end_time": "2025-03-27T23:41:19.437504Z",
     "start_time": "2025-03-27T23:41:19.434102Z"
    }
   },
   "source": [
    "def get_dataset_paths(state_name):\n",
    "    root_path = '/Users/vitor/Desktop/mestrado/ingred/data/output'\n",
    "    path_embeddings = f'{root_path}/{state_name}/{state_name}-embeddings.csv'\n",
    "    path_filtrated = f'{root_path}/{state_name}/{state_name}-filtrado.csv'\n",
    "\n",
    "    #creatre the directory if it does not exist\n",
    "    os.makedirs(f'{root_path}/{state_name}/pre-processing/', exist_ok=True)\n",
    "    path_nextpoi_sequences = f'{root_path}/{state_name}/pre-processing/nextpoi-sequences.csv'\n",
    "    path_nextpoi_input = f'{root_path}/{state_name}/pre-processing/nextpoi-input.csv'\n",
    "    path_categorypoi_input = f'{root_path}/{state_name}/pre-processing/categorypoi-input.csv'\n",
    "\n",
    "    paths = [path_embeddings, path_filtrated, path_nextpoi_sequences, path_nextpoi_input, path_categorypoi_input]\n",
    "\n",
    "    return paths\n",
    "\n",
    "\n",
    "def get_embeddings(path, state_name):\n",
    "    embeddings = pd.read_csv(path)\n",
    "    print(f'embeddings_df {state_name} shape: {embeddings.shape}')\n",
    "\n",
    "    return embeddings"
   ],
   "outputs": [],
   "execution_count": 5
  },
  {
   "cell_type": "code",
   "metadata": {
    "colab": {
     "base_uri": "https://localhost:8080/"
    },
    "id": "SDwIl5QdOMYx",
    "outputId": "a7f28da3-ba3a-4daf-f4e4-f3e0c9b59dfe",
    "ExecuteTime": {
     "end_time": "2025-03-27T23:41:20.149320Z",
     "start_time": "2025-03-27T23:41:20.017609Z"
    }
   },
   "source": [
    "# alabama\n",
    "paths_alabama = get_dataset_paths('alabama')\n",
    "embeddings_alabama = get_embeddings(paths_alabama[0], 'alabama')"
   ],
   "outputs": [
    {
     "name": "stdout",
     "output_type": "stream",
     "text": [
      "embeddings_df alabama shape: (10499, 102)\n"
     ]
    }
   ],
   "execution_count": 6
  },
  {
   "cell_type": "code",
   "execution_count": null,
   "metadata": {
    "colab": {
     "base_uri": "https://localhost:8080/"
    },
    "id": "hqf9i3Jc0w8c",
    "outputId": "92bd4419-0990-4767-924b-bfbf419d3bae"
   },
   "outputs": [
    {
     "name": "stdout",
     "output_type": "stream",
     "text": [
      "embeddings_df arizona shape: (16357, 102)\n"
     ]
    }
   ],
   "source": [
    "# arizona\n",
    "paths_arizona = get_dataset_paths('arizona')\n",
    "embeddings_arizona = get_embeddings(paths_arizona[0], 'arizona')"
   ]
  },
  {
   "cell_type": "code",
   "execution_count": null,
   "metadata": {
    "colab": {
     "base_uri": "https://localhost:8080/"
    },
    "id": "680bGkWY4FWH",
    "outputId": "82561f19-b5e2-4c4e-b81f-3ea35857faa9"
   },
   "outputs": [
    {
     "name": "stdout",
     "output_type": "stream",
     "text": [
      "embeddings_df virginia shape: (20947, 102)\n"
     ]
    }
   ],
   "source": [
    "# virginia\n",
    "paths_virginia = get_dataset_paths('virginia')\n",
    "embeddings_virginia = get_embeddings(paths_virginia[0], 'virginia')"
   ]
  },
  {
   "cell_type": "code",
   "execution_count": null,
   "metadata": {
    "colab": {
     "base_uri": "https://localhost:8080/"
    },
    "id": "l9nW5Ktnt7ax",
    "outputId": "dde8dfcb-61dd-4031-a133-246cb0578ed9"
   },
   "outputs": [
    {
     "name": "stdout",
     "output_type": "stream",
     "text": [
      "embeddings_df chicago shape: (9092, 102)\n"
     ]
    }
   ],
   "source": [
    "# chicago\n",
    "paths_chicago = get_dataset_paths('chicago')\n",
    "embeddings_chicago = get_embeddings(paths_chicago[0], 'chicago')"
   ]
  },
  {
   "cell_type": "code",
   "execution_count": null,
   "metadata": {
    "colab": {
     "base_uri": "https://localhost:8080/"
    },
    "id": "lADCWWwsV9G4",
    "outputId": "a63d6b43-d985-4d49-df0d-90da4056fc0d"
   },
   "outputs": [
    {
     "output_type": "stream",
     "name": "stdout",
     "text": [
      "embeddings_df georgia shape: (23452, 102)\n"
     ]
    }
   ],
   "source": [
    "# georgia\n",
    "paths_georgia = get_dataset_paths('georgia')\n",
    "embeddings_georgia = get_embeddings(paths_georgia[0], 'georgia')"
   ]
  },
  {
   "cell_type": "markdown",
   "metadata": {
    "id": "DCcGsN_uP43Y"
   },
   "source": [
    "### **category-poi input preprocessing**"
   ]
  },
  {
   "cell_type": "markdown",
   "metadata": {
    "id": "Im87D-_Z-rxQ"
   },
   "source": [
    "#### preprocessing"
   ]
  },
  {
   "cell_type": "code",
   "metadata": {
    "id": "RntqNK2E2rgR",
    "ExecuteTime": {
     "end_time": "2025-03-27T23:41:24.105422Z",
     "start_time": "2025-03-27T23:41:24.101620Z"
    }
   },
   "source": [
    "def gen_categorypoi_input(embeddings, paths):\n",
    "    # essa função apenas recebe os embeddings gerados pelo hmrm e os salva em um csv\n",
    "    # que é a entrada do categorypoi\n",
    "    embeddings_with_category = embeddings.copy()\n",
    "    embeddings_with_category = embeddings_with_category.set_index('placeid')\n",
    "\n",
    "    categorypoi_input = embeddings_with_category.copy()\n",
    "    print(f'categorypoi_input shape: {categorypoi_input.shape}')\n",
    "    print(f'categorypoi_input columns: {categorypoi_input.columns}\\n')\n",
    "\n",
    "    categorypoi_input.to_csv(paths[4])\n",
    "\n",
    "    if os.path.exists(paths[4]):\n",
    "        print(f'categorypoi_input saved successfully at {paths[4]}')\n",
    "    else:\n",
    "        print(f'Error: Failed to save categorypoi_input at {paths[4]}')"
   ],
   "outputs": [],
   "execution_count": 7
  },
  {
   "cell_type": "markdown",
   "metadata": {
    "id": "dmFokH9M-0hL"
   },
   "source": [
    "#### generating input"
   ]
  },
  {
   "cell_type": "code",
   "metadata": {
    "colab": {
     "base_uri": "https://localhost:8080/"
    },
    "id": "eHi-Mw_7OqJj",
    "outputId": "b9db786a-087b-4afc-e53f-bf37731448f3",
    "ExecuteTime": {
     "end_time": "2025-03-27T23:41:26.186032Z",
     "start_time": "2025-03-27T23:41:25.501458Z"
    }
   },
   "source": [
    "# # alabama\n",
    "gen_categorypoi_input(embeddings_alabama, paths_alabama)"
   ],
   "outputs": [
    {
     "name": "stdout",
     "output_type": "stream",
     "text": [
      "categorypoi_input shape: (10499, 101)\n",
      "categorypoi_input columns: Index(['0', '1', '2', '3', '4', '5', '6', '7', '8', '9',\n",
      "       ...\n",
      "       '91', '92', '93', '94', '95', '96', '97', '98', '99', 'category'],\n",
      "      dtype='object', length=101)\n",
      "\n",
      "categorypoi_input saved successfully at /Users/vitor/Desktop/mestrado/ingred/data/output/alabama/pre-processing/categorypoi-input.csv\n"
     ]
    }
   ],
   "execution_count": 8
  },
  {
   "cell_type": "code",
   "execution_count": null,
   "metadata": {
    "colab": {
     "base_uri": "https://localhost:8080/"
    },
    "id": "M-qn-aT64EnQ",
    "outputId": "d7f3d774-a3e0-4320-cfeb-942447f631ee"
   },
   "outputs": [
    {
     "name": "stdout",
     "output_type": "stream",
     "text": [
      "categorypoi_input shape: (16357, 101)\n",
      "categorypoi_input columns: Index(['0', '1', '2', '3', '4', '5', '6', '7', '8', '9',\n",
      "       ...\n",
      "       '91', '92', '93', '94', '95', '96', '97', '98', '99', 'category'],\n",
      "      dtype='object', length=101)\n",
      "\n",
      "categorypoi_input saved successfully at /content/drive/MyDrive/POC/Dados/pre-processing/arizona/categorypoi-input.csv\n"
     ]
    }
   ],
   "source": [
    "# # arizona\n",
    "gen_categorypoi_input(embeddings_arizona, paths_arizona)"
   ]
  },
  {
   "cell_type": "code",
   "execution_count": null,
   "metadata": {
    "colab": {
     "base_uri": "https://localhost:8080/"
    },
    "id": "AsVvt6t94iDV",
    "outputId": "cad26ed9-8984-4d7e-83f7-ba9e46754826"
   },
   "outputs": [
    {
     "name": "stdout",
     "output_type": "stream",
     "text": [
      "categorypoi_input shape: (20947, 101)\n",
      "categorypoi_input columns: Index(['0', '1', '2', '3', '4', '5', '6', '7', '8', '9',\n",
      "       ...\n",
      "       '91', '92', '93', '94', '95', '96', '97', '98', '99', 'category'],\n",
      "      dtype='object', length=101)\n",
      "\n",
      "categorypoi_input saved successfully at /content/drive/MyDrive/POC/Dados/pre-processing/virginia/categorypoi-input.csv\n"
     ]
    }
   ],
   "source": [
    "# # virginia\n",
    "gen_categorypoi_input(embeddings_virginia, paths_virginia)"
   ]
  },
  {
   "cell_type": "code",
   "execution_count": null,
   "metadata": {
    "colab": {
     "base_uri": "https://localhost:8080/"
    },
    "id": "nXqMZy0XuCDl",
    "outputId": "603301fd-c8df-4660-f19f-817e2e939d12"
   },
   "outputs": [
    {
     "name": "stdout",
     "output_type": "stream",
     "text": [
      "categorypoi_input shape: (9092, 101)\n",
      "categorypoi_input columns: Index(['0', '1', '2', '3', '4', '5', '6', '7', '8', '9',\n",
      "       ...\n",
      "       '91', '92', '93', '94', '95', '96', '97', '98', '99', 'category'],\n",
      "      dtype='object', length=101)\n",
      "\n",
      "categorypoi_input saved successfully at /content/drive/MyDrive/Graduacao/POC/Dados/pre-processing/chicago/categorypoi-input.csv\n"
     ]
    }
   ],
   "source": [
    "# chicago\n",
    "gen_categorypoi_input(embeddings_chicago, paths_chicago)"
   ]
  },
  {
   "cell_type": "code",
   "execution_count": null,
   "metadata": {
    "colab": {
     "base_uri": "https://localhost:8080/"
    },
    "id": "4NbIUtjaWBWD",
    "outputId": "2266f1c9-8f2e-4e01-c295-a31888ca9ce8"
   },
   "outputs": [
    {
     "name": "stdout",
     "output_type": "stream",
     "text": [
      "categorypoi_input shape: (23452, 101)\n",
      "categorypoi_input columns: Index(['0', '1', '2', '3', '4', '5', '6', '7', '8', '9',\n",
      "       ...\n",
      "       '91', '92', '93', '94', '95', '96', '97', '98', '99', 'category'],\n",
      "      dtype='object', length=101)\n",
      "\n",
      "categorypoi_input saved successfully at /content/drive/MyDrive/Graduacao/POC/Dados/pre-processing/georgia/categorypoi-input.csv\n"
     ]
    }
   ],
   "source": [
    "# georgia\n",
    "gen_categorypoi_input(embeddings_georgia, paths_georgia)"
   ]
  },
  {
   "cell_type": "markdown",
   "metadata": {
    "id": "EmDrpq37QTYo"
   },
   "source": [
    "### **next-poi input preprocessing**"
   ]
  },
  {
   "cell_type": "markdown",
   "metadata": {
    "id": "LLNb7WNc-jEA"
   },
   "source": [
    "#### preprocessing"
   ]
  },
  {
   "cell_type": "code",
   "metadata": {
    "id": "XikQdLq1QoYP",
    "ExecuteTime": {
     "end_time": "2025-03-27T23:41:28.923809Z",
     "start_time": "2025-03-27T23:41:28.919653Z"
    }
   },
   "source": [
    "def sort_checkins(checkins):\n",
    "    # ordenando os checkins pelo dia e horário de visita\n",
    "    checkins = [datetime.strptime(x, '%Y-%m-%d %H:%M:%S') for x in checkins]\n",
    "    return sorted(checkins, key=lambda x: (x.date(), x.time()))\n",
    "\n",
    "\n",
    "def generate_sequences(places_visiteds, max_sequences_per_user):\n",
    "    len_sequence = len(places_visiteds)\n",
    "    sequences_by_user = []\n",
    "\n",
    "    if len_sequence <= 5:\n",
    "        return 0\n",
    "\n",
    "    for i in range(0, len_sequence, 9):\n",
    "\n",
    "        if len_sequence >= i + 10:\n",
    "            seq = places_visiteds[i:i + 10]\n",
    "        else:\n",
    "            seq = places_visiteds[i:len_sequence]\n",
    "            seq = [-1 for _ in range(10 - len(seq))] + seq\n",
    "\n",
    "        sequences_by_user.append(seq)\n",
    "\n",
    "    return sequences_by_user"
   ],
   "outputs": [],
   "execution_count": 9
  },
  {
   "cell_type": "code",
   "metadata": {
    "id": "yFTi6aZM9Bww",
    "ExecuteTime": {
     "end_time": "2025-03-27T23:41:29.386343Z",
     "start_time": "2025-03-27T23:41:29.382431Z"
    }
   },
   "source": [
    "def gen_sequences_csv(users_ids, sequences, paths):\n",
    "    nextpoi_sequences = pd.DataFrame(columns=['userid'] + list(range(1, 11)))\n",
    "    row = 0\n",
    "\n",
    "    for id in users_ids:\n",
    "        sequencia = sequences.loc[id].iloc[0]\n",
    "        tam_seq = len(sequencia)\n",
    "\n",
    "        for i in range(tam_seq):\n",
    "            trajetoria = sequencia[i]\n",
    "            dados = {i + 1: trajetoria[i] for i in range(len(trajetoria))}\n",
    "            dados['userid'] = id\n",
    "            nextpoi_sequences.loc[row] = dados\n",
    "            row += 1\n",
    "\n",
    "    print(f'nextpoi_sequences shape: {nextpoi_sequences.shape}')\n",
    "\n",
    "    # ao final salvo todas as sequências em um csv\n",
    "    nextpoi_sequences.to_csv(paths[2], index=False)\n",
    "    if os.path.exists(paths[2]):\n",
    "        print(f'Success: nextpoi_sequences saved successfully at {paths[2]}\\n')\n",
    "    else:\n",
    "        print(f'Error: Failed to save nextpoi_sequences at {paths[2]}\\n')"
   ],
   "outputs": [],
   "execution_count": 10
  },
  {
   "cell_type": "code",
   "metadata": {
    "id": "bQvm6V2dfwZf",
    "ExecuteTime": {
     "end_time": "2025-03-27T23:41:29.827304Z",
     "start_time": "2025-03-27T23:41:29.821609Z"
    }
   },
   "source": [
    "def gen_nextpoi_input_csv(df_nextpoi_sequences, paths, embeddings_with_category, embeddings_without_category,\n",
    "                          save_step=1000):\n",
    "    nextpoi_input_file = paths[3]\n",
    "\n",
    "    if os.path.exists(nextpoi_input_file):\n",
    "        nextpoi_input = pd.read_csv(nextpoi_input_file)\n",
    "        start_index = nextpoi_input.shape[0]\n",
    "        print(f'Já existe e recomecei do indice {start_index} no nextpoi_input\\n')\n",
    "    else:\n",
    "        nextpoi_input = pd.DataFrame(columns=range((100 * 9) + 10))\n",
    "        new_names = list(nextpoi_input.columns[:-1]) + ['userid']\n",
    "        nextpoi_input.columns = new_names\n",
    "        start_index = 0\n",
    "\n",
    "    idx = start_index\n",
    "    total_rows = len(df_nextpoi_sequences)\n",
    "\n",
    "    for i, (userid, linha) in enumerate(df_nextpoi_sequences.iterrows()):\n",
    "        if idx >= total_rows:\n",
    "            break\n",
    "\n",
    "        if i < start_index:\n",
    "            continue\n",
    "        idxs = [f\"{i}\" for i in range(2, 11)]\n",
    "\n",
    "        target = linha.loc[idxs]\n",
    "        categoria_target = embeddings_with_category.loc[target]['category']\n",
    "        linha = linha.drop('10')\n",
    "\n",
    "        poi_embedding = np.array(embeddings_without_category.loc[linha])\n",
    "        sample = np.append(poi_embedding, list(categoria_target) + [userid])\n",
    "        nextpoi_input.loc[idx] = sample\n",
    "\n",
    "        if idx % save_step == 0:\n",
    "            nextpoi_input.to_csv(nextpoi_input_file, index=False)\n",
    "            print(f'Saved {idx} rows to {nextpoi_input_file}')\n",
    "            print(f'Processando linha {i} do df_nextpoi_sequences')\n",
    "\n",
    "        idx += 1\n",
    "\n",
    "    nextpoi_input.to_csv(nextpoi_input_file, index=False)\n",
    "    print(f'Final save: {idx} rows to {nextpoi_input_file}')"
   ],
   "outputs": [],
   "execution_count": 11
  },
  {
   "cell_type": "code",
   "metadata": {
    "id": "1SA_lWmg6ScQ",
    "ExecuteTime": {
     "end_time": "2025-03-27T23:41:30.734277Z",
     "start_time": "2025-03-27T23:41:30.725503Z"
    }
   },
   "source": [
    "def gen_nextpoi_input(embeddings, paths, max_sequences_per_user):\n",
    "    filtered_checkins = pd.read_csv(paths[1])\n",
    "    df = filtered_checkins.copy()\n",
    "\n",
    "    # ordenando os checkins por data e horario de visita para cada usuário\n",
    "    checkins_sorted = df.sort_values(by=['userid', 'datetime'])\n",
    "    checkins_by_user = checkins_sorted.groupby('userid').agg(list).reset_index()\n",
    "    checkins_by_user['datetime'] = checkins_by_user['datetime'].apply(sort_checkins)\n",
    "    print(f'checkins_by_user shape: {checkins_by_user.shape}\\n')\n",
    "\n",
    "    # com base na ordem de visita do usuário, eu crio uma sequência de visita com 10 poi's onde o último é o que quero predizer\n",
    "    checkins_sequence_by_user = checkins_by_user[['userid']].copy()\n",
    "    checkins_sequence_by_user['visit_sequence'] = checkins_by_user['placeid'].apply(\n",
    "        lambda x: generate_sequences(x, max_sequences_per_user))\n",
    "    checkins_sequence_by_user = checkins_sequence_by_user[checkins_sequence_by_user['visit_sequence'] != 0]\n",
    "    print(f'checkins_sequence_by_user shape{checkins_sequence_by_user.shape}\\n')\n",
    "\n",
    "    # sequências de cada usuário sendo indexadas pelo userid\n",
    "    sequences = checkins_sequence_by_user.copy()\n",
    "    sequences = sequences.set_index('userid')\n",
    "\n",
    "    # todos os usuários que estão sendo considerados\n",
    "    users_ids = sequences.index.unique()\n",
    "    print(f'total users: {len(users_ids)}\\n')\n",
    "\n",
    "    # embeddings com categoria gerados pelo hmrm indexados pelo placeid\n",
    "    embeddings_with_category = embeddings.copy()\n",
    "    embeddings_with_category = embeddings_with_category.set_index('placeid')\n",
    "    print(f'embeddings with category shape: {embeddings_with_category.shape}')\n",
    "\n",
    "    # embeddings sem categoria gerados pelo hmrm indexados pelo placeid\n",
    "    embeddings_without_category = embeddings.drop(columns=['category'])\n",
    "    embeddings_without_category = embeddings_without_category.set_index('placeid')\n",
    "    print(f'embeddings without category shape: {embeddings_without_category.shape}')\n",
    "\n",
    "    # embedding de zeros para sequências com padding (modelo aprende a representar eles melhor)\n",
    "    emb_zeros = [0 for _ in range(100)]\n",
    "\n",
    "    embeddings_with_category.loc[-1] = emb_zeros + [0]\n",
    "    embeddings_with_category.loc[-1, 'category'] = 'None'\n",
    "\n",
    "    new_row = pd.DataFrame([emb_zeros], columns=embeddings_without_category.columns, index=[-1])\n",
    "    embeddings_without_category = pd.concat([embeddings_without_category, new_row])\n",
    "    print(f'embeddings without category shape after add emb_zeros: {embeddings_without_category.shape}\\n')\n",
    "\n",
    "    # gerando samples para as sequencias de visita de cada usuário\n",
    "    gen_sequences_csv(users_ids, sequences, paths)\n",
    "\n",
    "    # leio o csv com as sequencias em placeid e 'indexo' pelo userid da sequencia\n",
    "    df_nextpoi_sequences = pd.read_csv(paths[2])\n",
    "    df_nextpoi_sequences = df_nextpoi_sequences.set_index('userid')\n",
    "\n",
    "    # gerando o csv final => input do nextpoi\n",
    "    gen_nextpoi_input_csv(df_nextpoi_sequences, paths, embeddings_with_category, embeddings_without_category)\n",
    "    nextpoi_input = pd.read_csv(paths[3])\n",
    "\n",
    "    return nextpoi_input"
   ],
   "outputs": [],
   "execution_count": 12
  },
  {
   "cell_type": "markdown",
   "metadata": {
    "id": "_vIGWOn5liJQ"
   },
   "source": [
    "#### generating input"
   ]
  },
  {
   "cell_type": "markdown",
   "metadata": {
    "id": "q686gUgLsYnE"
   },
   "source": [
    "##### alabama"
   ]
  },
  {
   "cell_type": "code",
   "metadata": {
    "colab": {
     "base_uri": "https://localhost:8080/"
    },
    "id": "IwMZ1G_JMl52",
    "outputId": "076f73df-2332-4819-a0d5-21adae5221c3",
    "ExecuteTime": {
     "end_time": "2025-03-27T23:42:17.629390Z",
     "start_time": "2025-03-27T23:41:32.993073Z"
    }
   },
   "source": [
    "# alabama\n",
    "a = nextpoi_input_alabama = gen_nextpoi_input(embeddings_alabama, paths_alabama, max_sequences_per_user=50)"
   ],
   "outputs": [
    {
     "name": "stdout",
     "output_type": "stream",
     "text": [
      "checkins_by_user shape: (465, 20)\n",
      "\n",
      "checkins_sequence_by_user shape(465, 2)\n",
      "\n",
      "total users: 465\n",
      "\n",
      "embeddings with category shape: (10499, 101)\n",
      "embeddings without category shape: (10499, 100)\n",
      "embeddings without category shape after add emb_zeros: (10500, 100)\n",
      "\n",
      "nextpoi_sequences shape: (10582, 11)\n",
      "Success: nextpoi_sequences saved successfully at /Users/vitor/Desktop/mestrado/ingred/data/output/alabama/pre-processing/nextpoi-sequences.csv\n",
      "\n",
      "def_nextpoi_sequences shape: (10582, 10)\n",
      "\n",
      "            1      2      3      4      5      6      7      8      9     10\n",
      "userid                                                                      \n",
      "18       9531   9531   9532   9533   9693   9695  10599  25712  25732  25743\n",
      "18      25743  25762  26573  26580  27015  26573  25712  25712  26580  26580\n",
      "18      26580  29832  27015  26573  31937  34482   9695  35621  33042  26580\n",
      "18      26580  27015  26573  25712  26580  25712  26573  27015  26573  26580\n",
      "18      26580  46500  25712  25732  26580  25712  26573  70946  27015  26580\n",
      "Já existe e recomecei do indice 1001 no nextpoi_input\n",
      "\n"
     ]
    },
    {
     "name": "stderr",
     "output_type": "stream",
     "text": [
      "Exception ignored in: <bound method IPythonKernel._clean_thread_parent_frames of <ipykernel.ipkernel.IPythonKernel object at 0x1026f63a0>>\n",
      "Traceback (most recent call last):\n",
      "  File \"/Users/vitor/Desktop/mestrado/ingred/.venv/lib/python3.9/site-packages/ipykernel/ipkernel.py\", line 775, in _clean_thread_parent_frames\n",
      "    def _clean_thread_parent_frames(\n",
      "KeyboardInterrupt: \n"
     ]
    },
    {
     "name": "stdout",
     "output_type": "stream",
     "text": [
      "Saved 2000 rows to /Users/vitor/Desktop/mestrado/ingred/data/output/alabama/pre-processing/nextpoi-input.csv\n",
      "Processando linha 2000 do df_nextpoi_sequences\n"
     ]
    },
    {
     "ename": "KeyboardInterrupt",
     "evalue": "",
     "output_type": "error",
     "traceback": [
      "\u001B[0;31m---------------------------------------------------------------------------\u001B[0m",
      "\u001B[0;31mKeyboardInterrupt\u001B[0m                         Traceback (most recent call last)",
      "Cell \u001B[0;32mIn[13], line 2\u001B[0m\n\u001B[1;32m      1\u001B[0m \u001B[38;5;66;03m# alabama\u001B[39;00m\n\u001B[0;32m----> 2\u001B[0m a \u001B[38;5;241m=\u001B[39m nextpoi_input_alabama \u001B[38;5;241m=\u001B[39m \u001B[43mgen_nextpoi_input\u001B[49m\u001B[43m(\u001B[49m\u001B[43membeddings_alabama\u001B[49m\u001B[43m,\u001B[49m\u001B[43m \u001B[49m\u001B[43mpaths_alabama\u001B[49m\u001B[43m,\u001B[49m\u001B[43m \u001B[49m\u001B[43mmax_sequences_per_user\u001B[49m\u001B[38;5;241;43m=\u001B[39;49m\u001B[38;5;241;43m50\u001B[39;49m\u001B[43m)\u001B[49m\n",
      "Cell \u001B[0;32mIn[12], line 57\u001B[0m, in \u001B[0;36mgen_nextpoi_input\u001B[0;34m(embeddings, paths, max_sequences_per_user)\u001B[0m\n\u001B[1;32m     54\u001B[0m exit(\u001B[38;5;241m0\u001B[39m)\n\u001B[1;32m     56\u001B[0m \u001B[38;5;66;03m# gerando o csv final => input do nextpoi\u001B[39;00m\n\u001B[0;32m---> 57\u001B[0m \u001B[43mgen_nextpoi_input_csv\u001B[49m\u001B[43m(\u001B[49m\u001B[43mdf_nextpoi_sequences\u001B[49m\u001B[43m,\u001B[49m\u001B[43m \u001B[49m\u001B[43mpaths\u001B[49m\u001B[43m,\u001B[49m\u001B[43m \u001B[49m\u001B[43membeddings_with_category\u001B[49m\u001B[43m,\u001B[49m\u001B[43m \u001B[49m\u001B[43membeddings_without_category\u001B[49m\u001B[43m)\u001B[49m\n\u001B[1;32m     58\u001B[0m nextpoi_input \u001B[38;5;241m=\u001B[39m pd\u001B[38;5;241m.\u001B[39mread_csv(paths[\u001B[38;5;241m3\u001B[39m])\n\u001B[1;32m     60\u001B[0m \u001B[38;5;28;01mreturn\u001B[39;00m nextpoi_input\n",
      "Cell \u001B[0;32mIn[11], line 32\u001B[0m, in \u001B[0;36mgen_nextpoi_input_csv\u001B[0;34m(df_nextpoi_sequences, paths, embeddings_with_category, embeddings_without_category, save_step)\u001B[0m\n\u001B[1;32m     30\u001B[0m poi_embedding \u001B[38;5;241m=\u001B[39m np\u001B[38;5;241m.\u001B[39marray(embeddings_without_category\u001B[38;5;241m.\u001B[39mloc[linha])\n\u001B[1;32m     31\u001B[0m sample \u001B[38;5;241m=\u001B[39m np\u001B[38;5;241m.\u001B[39mappend(poi_embedding, \u001B[38;5;28mlist\u001B[39m(categoria_target) \u001B[38;5;241m+\u001B[39m [userid])\n\u001B[0;32m---> 32\u001B[0m \u001B[43mnextpoi_input\u001B[49m\u001B[38;5;241;43m.\u001B[39;49m\u001B[43mloc\u001B[49m\u001B[43m[\u001B[49m\u001B[43midx\u001B[49m\u001B[43m]\u001B[49m \u001B[38;5;241m=\u001B[39m sample\n\u001B[1;32m     34\u001B[0m \u001B[38;5;28;01mif\u001B[39;00m idx \u001B[38;5;241m%\u001B[39m save_step \u001B[38;5;241m==\u001B[39m \u001B[38;5;241m0\u001B[39m:\n\u001B[1;32m     35\u001B[0m     nextpoi_input\u001B[38;5;241m.\u001B[39mto_csv(nextpoi_input_file, index\u001B[38;5;241m=\u001B[39m\u001B[38;5;28;01mFalse\u001B[39;00m)\n",
      "File \u001B[0;32m~/Desktop/mestrado/ingred/.venv/lib/python3.9/site-packages/pandas/core/indexing.py:911\u001B[0m, in \u001B[0;36m_LocationIndexer.__setitem__\u001B[0;34m(self, key, value)\u001B[0m\n\u001B[1;32m    908\u001B[0m \u001B[38;5;28mself\u001B[39m\u001B[38;5;241m.\u001B[39m_has_valid_setitem_indexer(key)\n\u001B[1;32m    910\u001B[0m iloc \u001B[38;5;241m=\u001B[39m \u001B[38;5;28mself\u001B[39m \u001B[38;5;28;01mif\u001B[39;00m \u001B[38;5;28mself\u001B[39m\u001B[38;5;241m.\u001B[39mname \u001B[38;5;241m==\u001B[39m \u001B[38;5;124m\"\u001B[39m\u001B[38;5;124miloc\u001B[39m\u001B[38;5;124m\"\u001B[39m \u001B[38;5;28;01melse\u001B[39;00m \u001B[38;5;28mself\u001B[39m\u001B[38;5;241m.\u001B[39mobj\u001B[38;5;241m.\u001B[39miloc\n\u001B[0;32m--> 911\u001B[0m \u001B[43miloc\u001B[49m\u001B[38;5;241;43m.\u001B[39;49m\u001B[43m_setitem_with_indexer\u001B[49m\u001B[43m(\u001B[49m\u001B[43mindexer\u001B[49m\u001B[43m,\u001B[49m\u001B[43m \u001B[49m\u001B[43mvalue\u001B[49m\u001B[43m,\u001B[49m\u001B[43m \u001B[49m\u001B[38;5;28;43mself\u001B[39;49m\u001B[38;5;241;43m.\u001B[39;49m\u001B[43mname\u001B[49m\u001B[43m)\u001B[49m\n",
      "File \u001B[0;32m~/Desktop/mestrado/ingred/.venv/lib/python3.9/site-packages/pandas/core/indexing.py:1932\u001B[0m, in \u001B[0;36m_iLocIndexer._setitem_with_indexer\u001B[0;34m(self, indexer, value, name)\u001B[0m\n\u001B[1;32m   1929\u001B[0m     indexer, missing \u001B[38;5;241m=\u001B[39m convert_missing_indexer(indexer)\n\u001B[1;32m   1931\u001B[0m     \u001B[38;5;28;01mif\u001B[39;00m missing:\n\u001B[0;32m-> 1932\u001B[0m         \u001B[38;5;28;43mself\u001B[39;49m\u001B[38;5;241;43m.\u001B[39;49m\u001B[43m_setitem_with_indexer_missing\u001B[49m\u001B[43m(\u001B[49m\u001B[43mindexer\u001B[49m\u001B[43m,\u001B[49m\u001B[43m \u001B[49m\u001B[43mvalue\u001B[49m\u001B[43m)\u001B[49m\n\u001B[1;32m   1933\u001B[0m         \u001B[38;5;28;01mreturn\u001B[39;00m\n\u001B[1;32m   1935\u001B[0m \u001B[38;5;28;01mif\u001B[39;00m name \u001B[38;5;241m==\u001B[39m \u001B[38;5;124m\"\u001B[39m\u001B[38;5;124mloc\u001B[39m\u001B[38;5;124m\"\u001B[39m:\n\u001B[1;32m   1936\u001B[0m     \u001B[38;5;66;03m# must come after setting of missing\u001B[39;00m\n",
      "File \u001B[0;32m~/Desktop/mestrado/ingred/.venv/lib/python3.9/site-packages/pandas/core/indexing.py:2328\u001B[0m, in \u001B[0;36m_iLocIndexer._setitem_with_indexer_missing\u001B[0;34m(self, indexer, value)\u001B[0m\n\u001B[1;32m   2326\u001B[0m     \u001B[38;5;28mself\u001B[39m\u001B[38;5;241m.\u001B[39mobj\u001B[38;5;241m.\u001B[39m_mgr \u001B[38;5;241m=\u001B[39m df\u001B[38;5;241m.\u001B[39m_mgr\n\u001B[1;32m   2327\u001B[0m \u001B[38;5;28;01melse\u001B[39;00m:\n\u001B[0;32m-> 2328\u001B[0m     \u001B[38;5;28mself\u001B[39m\u001B[38;5;241m.\u001B[39mobj\u001B[38;5;241m.\u001B[39m_mgr \u001B[38;5;241m=\u001B[39m \u001B[38;5;28;43mself\u001B[39;49m\u001B[38;5;241;43m.\u001B[39;49m\u001B[43mobj\u001B[49m\u001B[38;5;241;43m.\u001B[39;49m\u001B[43m_append\u001B[49m\u001B[43m(\u001B[49m\u001B[43mvalue\u001B[49m\u001B[43m)\u001B[49m\u001B[38;5;241m.\u001B[39m_mgr\n\u001B[1;32m   2329\u001B[0m \u001B[38;5;28mself\u001B[39m\u001B[38;5;241m.\u001B[39mobj\u001B[38;5;241m.\u001B[39m_maybe_update_cacher(clear\u001B[38;5;241m=\u001B[39m\u001B[38;5;28;01mTrue\u001B[39;00m)\n",
      "File \u001B[0;32m~/Desktop/mestrado/ingred/.venv/lib/python3.9/site-packages/pandas/core/frame.py:10572\u001B[0m, in \u001B[0;36mDataFrame._append\u001B[0;34m(self, other, ignore_index, verify_integrity, sort)\u001B[0m\n\u001B[1;32m  10569\u001B[0m \u001B[38;5;28;01melse\u001B[39;00m:\n\u001B[1;32m  10570\u001B[0m     to_concat \u001B[38;5;241m=\u001B[39m [\u001B[38;5;28mself\u001B[39m, other]\n\u001B[0;32m> 10572\u001B[0m result \u001B[38;5;241m=\u001B[39m \u001B[43mconcat\u001B[49m\u001B[43m(\u001B[49m\n\u001B[1;32m  10573\u001B[0m \u001B[43m    \u001B[49m\u001B[43mto_concat\u001B[49m\u001B[43m,\u001B[49m\n\u001B[1;32m  10574\u001B[0m \u001B[43m    \u001B[49m\u001B[43mignore_index\u001B[49m\u001B[38;5;241;43m=\u001B[39;49m\u001B[43mignore_index\u001B[49m\u001B[43m,\u001B[49m\n\u001B[1;32m  10575\u001B[0m \u001B[43m    \u001B[49m\u001B[43mverify_integrity\u001B[49m\u001B[38;5;241;43m=\u001B[39;49m\u001B[43mverify_integrity\u001B[49m\u001B[43m,\u001B[49m\n\u001B[1;32m  10576\u001B[0m \u001B[43m    \u001B[49m\u001B[43msort\u001B[49m\u001B[38;5;241;43m=\u001B[39;49m\u001B[43msort\u001B[49m\u001B[43m,\u001B[49m\n\u001B[1;32m  10577\u001B[0m \u001B[43m\u001B[49m\u001B[43m)\u001B[49m\n\u001B[1;32m  10578\u001B[0m \u001B[38;5;28;01mreturn\u001B[39;00m result\u001B[38;5;241m.\u001B[39m__finalize__(\u001B[38;5;28mself\u001B[39m, method\u001B[38;5;241m=\u001B[39m\u001B[38;5;124m\"\u001B[39m\u001B[38;5;124mappend\u001B[39m\u001B[38;5;124m\"\u001B[39m)\n",
      "File \u001B[0;32m~/Desktop/mestrado/ingred/.venv/lib/python3.9/site-packages/pandas/core/reshape/concat.py:395\u001B[0m, in \u001B[0;36mconcat\u001B[0;34m(objs, axis, join, ignore_index, keys, levels, names, verify_integrity, sort, copy)\u001B[0m\n\u001B[1;32m    380\u001B[0m     copy \u001B[38;5;241m=\u001B[39m \u001B[38;5;28;01mFalse\u001B[39;00m\n\u001B[1;32m    382\u001B[0m op \u001B[38;5;241m=\u001B[39m _Concatenator(\n\u001B[1;32m    383\u001B[0m     objs,\n\u001B[1;32m    384\u001B[0m     axis\u001B[38;5;241m=\u001B[39maxis,\n\u001B[0;32m   (...)\u001B[0m\n\u001B[1;32m    392\u001B[0m     sort\u001B[38;5;241m=\u001B[39msort,\n\u001B[1;32m    393\u001B[0m )\n\u001B[0;32m--> 395\u001B[0m \u001B[38;5;28;01mreturn\u001B[39;00m \u001B[43mop\u001B[49m\u001B[38;5;241;43m.\u001B[39;49m\u001B[43mget_result\u001B[49m\u001B[43m(\u001B[49m\u001B[43m)\u001B[49m\n",
      "File \u001B[0;32m~/Desktop/mestrado/ingred/.venv/lib/python3.9/site-packages/pandas/core/reshape/concat.py:684\u001B[0m, in \u001B[0;36m_Concatenator.get_result\u001B[0;34m(self)\u001B[0m\n\u001B[1;32m    680\u001B[0m             indexers[ax] \u001B[38;5;241m=\u001B[39m obj_labels\u001B[38;5;241m.\u001B[39mget_indexer(new_labels)\n\u001B[1;32m    682\u001B[0m     mgrs_indexers\u001B[38;5;241m.\u001B[39mappend((obj\u001B[38;5;241m.\u001B[39m_mgr, indexers))\n\u001B[0;32m--> 684\u001B[0m new_data \u001B[38;5;241m=\u001B[39m \u001B[43mconcatenate_managers\u001B[49m\u001B[43m(\u001B[49m\n\u001B[1;32m    685\u001B[0m \u001B[43m    \u001B[49m\u001B[43mmgrs_indexers\u001B[49m\u001B[43m,\u001B[49m\u001B[43m \u001B[49m\u001B[38;5;28;43mself\u001B[39;49m\u001B[38;5;241;43m.\u001B[39;49m\u001B[43mnew_axes\u001B[49m\u001B[43m,\u001B[49m\u001B[43m \u001B[49m\u001B[43mconcat_axis\u001B[49m\u001B[38;5;241;43m=\u001B[39;49m\u001B[38;5;28;43mself\u001B[39;49m\u001B[38;5;241;43m.\u001B[39;49m\u001B[43mbm_axis\u001B[49m\u001B[43m,\u001B[49m\u001B[43m \u001B[49m\u001B[43mcopy\u001B[49m\u001B[38;5;241;43m=\u001B[39;49m\u001B[38;5;28;43mself\u001B[39;49m\u001B[38;5;241;43m.\u001B[39;49m\u001B[43mcopy\u001B[49m\n\u001B[1;32m    686\u001B[0m \u001B[43m\u001B[49m\u001B[43m)\u001B[49m\n\u001B[1;32m    687\u001B[0m \u001B[38;5;28;01mif\u001B[39;00m \u001B[38;5;129;01mnot\u001B[39;00m \u001B[38;5;28mself\u001B[39m\u001B[38;5;241m.\u001B[39mcopy \u001B[38;5;129;01mand\u001B[39;00m \u001B[38;5;129;01mnot\u001B[39;00m using_copy_on_write():\n\u001B[1;32m    688\u001B[0m     new_data\u001B[38;5;241m.\u001B[39m_consolidate_inplace()\n",
      "File \u001B[0;32m~/Desktop/mestrado/ingred/.venv/lib/python3.9/site-packages/pandas/core/internals/concat.py:177\u001B[0m, in \u001B[0;36mconcatenate_managers\u001B[0;34m(mgrs_indexers, axes, concat_axis, copy)\u001B[0m\n\u001B[1;32m    167\u001B[0m vals \u001B[38;5;241m=\u001B[39m [ju\u001B[38;5;241m.\u001B[39mblock\u001B[38;5;241m.\u001B[39mvalues \u001B[38;5;28;01mfor\u001B[39;00m ju \u001B[38;5;129;01min\u001B[39;00m join_units]\n\u001B[1;32m    169\u001B[0m \u001B[38;5;28;01mif\u001B[39;00m \u001B[38;5;129;01mnot\u001B[39;00m blk\u001B[38;5;241m.\u001B[39mis_extension:\n\u001B[1;32m    170\u001B[0m     \u001B[38;5;66;03m# _is_uniform_join_units ensures a single dtype, so\u001B[39;00m\n\u001B[1;32m    171\u001B[0m     \u001B[38;5;66;03m#  we can use np.concatenate, which is more performant\u001B[39;00m\n\u001B[0;32m   (...)\u001B[0m\n\u001B[1;32m    175\u001B[0m     \u001B[38;5;66;03m# expected \"Union[_SupportsArray[dtype[Any]],\u001B[39;00m\n\u001B[1;32m    176\u001B[0m     \u001B[38;5;66;03m# _NestedSequence[_SupportsArray[dtype[Any]]]]\"\u001B[39;00m\n\u001B[0;32m--> 177\u001B[0m     values \u001B[38;5;241m=\u001B[39m \u001B[43mnp\u001B[49m\u001B[38;5;241;43m.\u001B[39;49m\u001B[43mconcatenate\u001B[49m\u001B[43m(\u001B[49m\u001B[43mvals\u001B[49m\u001B[43m,\u001B[49m\u001B[43m \u001B[49m\u001B[43maxis\u001B[49m\u001B[38;5;241;43m=\u001B[39;49m\u001B[38;5;241;43m1\u001B[39;49m\u001B[43m)\u001B[49m  \u001B[38;5;66;03m# type: ignore[arg-type]\u001B[39;00m\n\u001B[1;32m    178\u001B[0m \u001B[38;5;28;01melif\u001B[39;00m is_1d_only_ea_dtype(blk\u001B[38;5;241m.\u001B[39mdtype):\n\u001B[1;32m    179\u001B[0m     \u001B[38;5;66;03m# TODO(EA2D): special-casing not needed with 2D EAs\u001B[39;00m\n\u001B[1;32m    180\u001B[0m     values \u001B[38;5;241m=\u001B[39m concat_compat(vals, axis\u001B[38;5;241m=\u001B[39m\u001B[38;5;241m0\u001B[39m, ea_compat_axis\u001B[38;5;241m=\u001B[39m\u001B[38;5;28;01mTrue\u001B[39;00m)\n",
      "\u001B[0;31mKeyboardInterrupt\u001B[0m: "
     ]
    }
   ],
   "execution_count": 13
  },
  {
   "cell_type": "markdown",
   "metadata": {
    "id": "_DMFe-TIscuW"
   },
   "source": [
    "##### arizona"
   ]
  },
  {
   "cell_type": "code",
   "execution_count": null,
   "metadata": {
    "colab": {
     "base_uri": "https://localhost:8080/"
    },
    "id": "IM5l83RvlkRB",
    "outputId": "c89a0e5a-e6d2-48c9-d0f0-bb5e0d9a0468"
   },
   "outputs": [
    {
     "name": "stdout",
     "output_type": "stream",
     "text": [
      "checkins_by_user shape: (756, 8)\n",
      "\n",
      "checkins_sequence_by_user shape(756, 2)\n",
      "\n",
      "total users: 756\n",
      "\n",
      "embeddings with category shape: (16357, 101)\n",
      "embeddings without category shape: (16357, 100)\n",
      "embeddings without category shape after add emb_zeros: (16358, 100)\n",
      "\n",
      "nextpoi_sequences shape: (17242, 11)\n",
      "Success: nextpoi_sequences saved successfully at /content/drive/MyDrive/POC/Dados/pre-processing/arizona/nextpoi-sequences.csv\n",
      "\n",
      "def_nextpoi_sequences shape: (17242, 10)\n",
      "\n",
      "Saved 0 rows to /content/drive/MyDrive/POC/Dados/pre-processing/arizona/nextpoi-input.csv\n",
      "Processando linha 0 do df_nextpoi_sequences\n",
      "Saved 1000 rows to /content/drive/MyDrive/POC/Dados/pre-processing/arizona/nextpoi-input.csv\n",
      "Processando linha 1000 do df_nextpoi_sequences\n",
      "Saved 2000 rows to /content/drive/MyDrive/POC/Dados/pre-processing/arizona/nextpoi-input.csv\n",
      "Processando linha 2000 do df_nextpoi_sequences\n",
      "Saved 3000 rows to /content/drive/MyDrive/POC/Dados/pre-processing/arizona/nextpoi-input.csv\n",
      "Processando linha 3000 do df_nextpoi_sequences\n",
      "Saved 4000 rows to /content/drive/MyDrive/POC/Dados/pre-processing/arizona/nextpoi-input.csv\n",
      "Processando linha 4000 do df_nextpoi_sequences\n",
      "Saved 5000 rows to /content/drive/MyDrive/POC/Dados/pre-processing/arizona/nextpoi-input.csv\n",
      "Processando linha 5000 do df_nextpoi_sequences\n",
      "Saved 6000 rows to /content/drive/MyDrive/POC/Dados/pre-processing/arizona/nextpoi-input.csv\n",
      "Processando linha 6000 do df_nextpoi_sequences\n",
      "Saved 7000 rows to /content/drive/MyDrive/POC/Dados/pre-processing/arizona/nextpoi-input.csv\n",
      "Processando linha 7000 do df_nextpoi_sequences\n",
      "Saved 8000 rows to /content/drive/MyDrive/POC/Dados/pre-processing/arizona/nextpoi-input.csv\n",
      "Processando linha 8000 do df_nextpoi_sequences\n",
      "Saved 9000 rows to /content/drive/MyDrive/POC/Dados/pre-processing/arizona/nextpoi-input.csv\n",
      "Processando linha 9000 do df_nextpoi_sequences\n",
      "Saved 10000 rows to /content/drive/MyDrive/POC/Dados/pre-processing/arizona/nextpoi-input.csv\n",
      "Processando linha 10000 do df_nextpoi_sequences\n",
      "Saved 11000 rows to /content/drive/MyDrive/POC/Dados/pre-processing/arizona/nextpoi-input.csv\n",
      "Processando linha 11000 do df_nextpoi_sequences\n",
      "Saved 12000 rows to /content/drive/MyDrive/POC/Dados/pre-processing/arizona/nextpoi-input.csv\n",
      "Processando linha 12000 do df_nextpoi_sequences\n",
      "Saved 13000 rows to /content/drive/MyDrive/POC/Dados/pre-processing/arizona/nextpoi-input.csv\n",
      "Processando linha 13000 do df_nextpoi_sequences\n",
      "Saved 14000 rows to /content/drive/MyDrive/POC/Dados/pre-processing/arizona/nextpoi-input.csv\n",
      "Processando linha 14000 do df_nextpoi_sequences\n",
      "Saved 15000 rows to /content/drive/MyDrive/POC/Dados/pre-processing/arizona/nextpoi-input.csv\n",
      "Processando linha 15000 do df_nextpoi_sequences\n",
      "Saved 16000 rows to /content/drive/MyDrive/POC/Dados/pre-processing/arizona/nextpoi-input.csv\n",
      "Processando linha 16000 do df_nextpoi_sequences\n",
      "Saved 17000 rows to /content/drive/MyDrive/POC/Dados/pre-processing/arizona/nextpoi-input.csv\n",
      "Processando linha 17000 do df_nextpoi_sequences\n",
      "Final save: 17242 rows to /content/drive/MyDrive/POC/Dados/pre-processing/arizona/nextpoi-input.csv\n"
     ]
    }
   ],
   "source": [
    "# arizona\n",
    "nextpoi_input_arizona = gen_nextpoi_input(embeddings_arizona, paths_arizona, max_sequences_per_user=50)"
   ]
  },
  {
   "cell_type": "markdown",
   "metadata": {
    "id": "XQFvsogpsfcl"
   },
   "source": [
    "##### virginia"
   ]
  },
  {
   "cell_type": "code",
   "execution_count": null,
   "metadata": {
    "colab": {
     "base_uri": "https://localhost:8080/"
    },
    "id": "uUpqn3uNmYOC",
    "outputId": "cf0f296c-c65f-4ce5-c9e4-f4ffc1a7ff9c"
   },
   "outputs": [
    {
     "name": "stdout",
     "output_type": "stream",
     "text": [
      "checkins_by_user shape: (1059, 8)\n",
      "\n",
      "checkins_sequence_by_user shape(1059, 2)\n",
      "\n",
      "total users: 1059\n",
      "\n",
      "embeddings with category shape: (20947, 101)\n",
      "embeddings without category shape: (20947, 100)\n",
      "embeddings without category shape after add emb_zeros: (20948, 100)\n",
      "\n",
      "nextpoi_sequences shape: (22189, 11)\n",
      "Success: nextpoi_sequences saved successfully at /content/drive/MyDrive/POC/Dados/pre-processing/virginia/nextpoi-sequences.csv\n",
      "\n",
      "def_nextpoi_sequences shape: (22189, 10)\n",
      "\n",
      "Saved 0 rows to /content/drive/MyDrive/POC/Dados/pre-processing/virginia/nextpoi-input.csv\n",
      "Processando linha 0 do df_nextpoi_sequences\n",
      "Saved 1000 rows to /content/drive/MyDrive/POC/Dados/pre-processing/virginia/nextpoi-input.csv\n",
      "Processando linha 1000 do df_nextpoi_sequences\n",
      "Saved 2000 rows to /content/drive/MyDrive/POC/Dados/pre-processing/virginia/nextpoi-input.csv\n",
      "Processando linha 2000 do df_nextpoi_sequences\n",
      "Saved 3000 rows to /content/drive/MyDrive/POC/Dados/pre-processing/virginia/nextpoi-input.csv\n",
      "Processando linha 3000 do df_nextpoi_sequences\n",
      "Saved 4000 rows to /content/drive/MyDrive/POC/Dados/pre-processing/virginia/nextpoi-input.csv\n",
      "Processando linha 4000 do df_nextpoi_sequences\n",
      "Saved 5000 rows to /content/drive/MyDrive/POC/Dados/pre-processing/virginia/nextpoi-input.csv\n",
      "Processando linha 5000 do df_nextpoi_sequences\n",
      "Saved 6000 rows to /content/drive/MyDrive/POC/Dados/pre-processing/virginia/nextpoi-input.csv\n",
      "Processando linha 6000 do df_nextpoi_sequences\n",
      "Saved 7000 rows to /content/drive/MyDrive/POC/Dados/pre-processing/virginia/nextpoi-input.csv\n",
      "Processando linha 7000 do df_nextpoi_sequences\n",
      "Saved 8000 rows to /content/drive/MyDrive/POC/Dados/pre-processing/virginia/nextpoi-input.csv\n",
      "Processando linha 8000 do df_nextpoi_sequences\n",
      "Saved 9000 rows to /content/drive/MyDrive/POC/Dados/pre-processing/virginia/nextpoi-input.csv\n",
      "Processando linha 9000 do df_nextpoi_sequences\n",
      "Saved 10000 rows to /content/drive/MyDrive/POC/Dados/pre-processing/virginia/nextpoi-input.csv\n",
      "Processando linha 10000 do df_nextpoi_sequences\n",
      "Saved 11000 rows to /content/drive/MyDrive/POC/Dados/pre-processing/virginia/nextpoi-input.csv\n",
      "Processando linha 11000 do df_nextpoi_sequences\n",
      "Saved 12000 rows to /content/drive/MyDrive/POC/Dados/pre-processing/virginia/nextpoi-input.csv\n",
      "Processando linha 12000 do df_nextpoi_sequences\n",
      "Saved 13000 rows to /content/drive/MyDrive/POC/Dados/pre-processing/virginia/nextpoi-input.csv\n",
      "Processando linha 13000 do df_nextpoi_sequences\n",
      "Saved 14000 rows to /content/drive/MyDrive/POC/Dados/pre-processing/virginia/nextpoi-input.csv\n",
      "Processando linha 14000 do df_nextpoi_sequences\n",
      "Saved 15000 rows to /content/drive/MyDrive/POC/Dados/pre-processing/virginia/nextpoi-input.csv\n",
      "Processando linha 15000 do df_nextpoi_sequences\n",
      "Saved 16000 rows to /content/drive/MyDrive/POC/Dados/pre-processing/virginia/nextpoi-input.csv\n",
      "Processando linha 16000 do df_nextpoi_sequences\n",
      "Saved 17000 rows to /content/drive/MyDrive/POC/Dados/pre-processing/virginia/nextpoi-input.csv\n",
      "Processando linha 17000 do df_nextpoi_sequences\n",
      "Saved 18000 rows to /content/drive/MyDrive/POC/Dados/pre-processing/virginia/nextpoi-input.csv\n",
      "Processando linha 18000 do df_nextpoi_sequences\n",
      "Saved 19000 rows to /content/drive/MyDrive/POC/Dados/pre-processing/virginia/nextpoi-input.csv\n",
      "Processando linha 19000 do df_nextpoi_sequences\n",
      "Saved 20000 rows to /content/drive/MyDrive/POC/Dados/pre-processing/virginia/nextpoi-input.csv\n",
      "Processando linha 20000 do df_nextpoi_sequences\n",
      "Saved 21000 rows to /content/drive/MyDrive/POC/Dados/pre-processing/virginia/nextpoi-input.csv\n",
      "Processando linha 21000 do df_nextpoi_sequences\n",
      "Saved 22000 rows to /content/drive/MyDrive/POC/Dados/pre-processing/virginia/nextpoi-input.csv\n",
      "Processando linha 22000 do df_nextpoi_sequences\n",
      "Final save: 22189 rows to /content/drive/MyDrive/POC/Dados/pre-processing/virginia/nextpoi-input.csv\n"
     ]
    }
   ],
   "source": [
    "# virginia\n",
    "nextpoi_input_virginia = gen_nextpoi_input(embeddings_virginia, paths_virginia, max_sequences_per_user=50)"
   ]
  },
  {
   "cell_type": "markdown",
   "metadata": {
    "id": "AKjIbouVuGvk"
   },
   "source": [
    "##### chicago"
   ]
  },
  {
   "cell_type": "code",
   "execution_count": null,
   "metadata": {
    "colab": {
     "base_uri": "https://localhost:8080/"
    },
    "id": "NqRRcSzcuLZ_",
    "outputId": "f0bc22da-2ef5-4df8-ff19-f0d613bdfe23"
   },
   "outputs": [
    {
     "name": "stdout",
     "output_type": "stream",
     "text": [
      "checkins_by_user shape: (861, 14)\n",
      "\n",
      "checkins_sequence_by_user shape(861, 2)\n",
      "\n",
      "total users: 861\n",
      "\n",
      "embeddings with category shape: (9092, 101)\n",
      "embeddings without category shape: (9092, 100)\n",
      "embeddings without category shape after add emb_zeros: (9093, 100)\n",
      "\n",
      "nextpoi_sequences shape: (15706, 11)\n",
      "Success: nextpoi_sequences saved successfully at /content/drive/MyDrive/Graduacao/POC/Dados/pre-processing/chicago/nextpoi-sequences.csv\n",
      "\n",
      "def_nextpoi_sequences shape: (15706, 10)\n",
      "\n",
      "Saved 0 rows to /content/drive/MyDrive/Graduacao/POC/Dados/pre-processing/chicago/nextpoi-input.csv\n",
      "Processando linha 0 do df_nextpoi_sequences\n",
      "Saved 1000 rows to /content/drive/MyDrive/Graduacao/POC/Dados/pre-processing/chicago/nextpoi-input.csv\n",
      "Processando linha 1000 do df_nextpoi_sequences\n",
      "Saved 2000 rows to /content/drive/MyDrive/Graduacao/POC/Dados/pre-processing/chicago/nextpoi-input.csv\n",
      "Processando linha 2000 do df_nextpoi_sequences\n",
      "Saved 3000 rows to /content/drive/MyDrive/Graduacao/POC/Dados/pre-processing/chicago/nextpoi-input.csv\n",
      "Processando linha 3000 do df_nextpoi_sequences\n",
      "Saved 4000 rows to /content/drive/MyDrive/Graduacao/POC/Dados/pre-processing/chicago/nextpoi-input.csv\n",
      "Processando linha 4000 do df_nextpoi_sequences\n",
      "Saved 5000 rows to /content/drive/MyDrive/Graduacao/POC/Dados/pre-processing/chicago/nextpoi-input.csv\n",
      "Processando linha 5000 do df_nextpoi_sequences\n",
      "Saved 6000 rows to /content/drive/MyDrive/Graduacao/POC/Dados/pre-processing/chicago/nextpoi-input.csv\n",
      "Processando linha 6000 do df_nextpoi_sequences\n",
      "Saved 7000 rows to /content/drive/MyDrive/Graduacao/POC/Dados/pre-processing/chicago/nextpoi-input.csv\n",
      "Processando linha 7000 do df_nextpoi_sequences\n",
      "Saved 8000 rows to /content/drive/MyDrive/Graduacao/POC/Dados/pre-processing/chicago/nextpoi-input.csv\n",
      "Processando linha 8000 do df_nextpoi_sequences\n",
      "Saved 9000 rows to /content/drive/MyDrive/Graduacao/POC/Dados/pre-processing/chicago/nextpoi-input.csv\n",
      "Processando linha 9000 do df_nextpoi_sequences\n",
      "Saved 10000 rows to /content/drive/MyDrive/Graduacao/POC/Dados/pre-processing/chicago/nextpoi-input.csv\n",
      "Processando linha 10000 do df_nextpoi_sequences\n",
      "Saved 11000 rows to /content/drive/MyDrive/Graduacao/POC/Dados/pre-processing/chicago/nextpoi-input.csv\n",
      "Processando linha 11000 do df_nextpoi_sequences\n",
      "Saved 12000 rows to /content/drive/MyDrive/Graduacao/POC/Dados/pre-processing/chicago/nextpoi-input.csv\n",
      "Processando linha 12000 do df_nextpoi_sequences\n",
      "Saved 13000 rows to /content/drive/MyDrive/Graduacao/POC/Dados/pre-processing/chicago/nextpoi-input.csv\n",
      "Processando linha 13000 do df_nextpoi_sequences\n",
      "Saved 14000 rows to /content/drive/MyDrive/Graduacao/POC/Dados/pre-processing/chicago/nextpoi-input.csv\n",
      "Processando linha 14000 do df_nextpoi_sequences\n",
      "Saved 15000 rows to /content/drive/MyDrive/Graduacao/POC/Dados/pre-processing/chicago/nextpoi-input.csv\n",
      "Processando linha 15000 do df_nextpoi_sequences\n",
      "Final save: 15706 rows to /content/drive/MyDrive/Graduacao/POC/Dados/pre-processing/chicago/nextpoi-input.csv\n"
     ]
    }
   ],
   "source": [
    "# chicago\n",
    "nextpoi_input_chicago = gen_nextpoi_input(embeddings_chicago, paths_chicago, max_sequences_per_user=50)"
   ]
  },
  {
   "cell_type": "markdown",
   "metadata": {
    "id": "KZx_ka4uWGfE"
   },
   "source": [
    "##### georgia"
   ]
  },
  {
   "cell_type": "code",
   "execution_count": null,
   "metadata": {
    "colab": {
     "base_uri": "https://localhost:8080/"
    },
    "id": "o4SfA0slWIoC",
    "outputId": "9ce54b7d-ce78-4255-f0fe-5db4cdd0f55c"
   },
   "outputs": [
    {
     "output_type": "stream",
     "name": "stdout",
     "text": [
      "checkins_by_user shape: (1159, 8)\n",
      "\n",
      "checkins_sequence_by_user shape(1159, 2)\n",
      "\n",
      "total users: 1159\n",
      "\n",
      "embeddings with category shape: (23452, 101)\n",
      "embeddings without category shape: (23452, 100)\n",
      "embeddings without category shape after add emb_zeros: (23453, 100)\n",
      "\n",
      "nextpoi_sequences shape: (31197, 11)\n",
      "Success: nextpoi_sequences saved successfully at /content/drive/MyDrive/Graduacao/POC/Dados/pre-processing/georgia/nextpoi-sequences.csv\n",
      "\n",
      "def_nextpoi_sequences shape: (31197, 10)\n",
      "\n",
      "Já existe e recomecei do indice 26001 no nextpoi_input\n",
      "\n",
      "Saved 27000 rows to /content/drive/MyDrive/Graduacao/POC/Dados/pre-processing/georgia/nextpoi-input.csv\n",
      "Processando linha 27000 do df_nextpoi_sequences\n",
      "Saved 28000 rows to /content/drive/MyDrive/Graduacao/POC/Dados/pre-processing/georgia/nextpoi-input.csv\n",
      "Processando linha 28000 do df_nextpoi_sequences\n",
      "Saved 29000 rows to /content/drive/MyDrive/Graduacao/POC/Dados/pre-processing/georgia/nextpoi-input.csv\n",
      "Processando linha 29000 do df_nextpoi_sequences\n",
      "Saved 30000 rows to /content/drive/MyDrive/Graduacao/POC/Dados/pre-processing/georgia/nextpoi-input.csv\n",
      "Processando linha 30000 do df_nextpoi_sequences\n",
      "Saved 31000 rows to /content/drive/MyDrive/Graduacao/POC/Dados/pre-processing/georgia/nextpoi-input.csv\n",
      "Processando linha 31000 do df_nextpoi_sequences\n",
      "Final save: 31197 rows to /content/drive/MyDrive/Graduacao/POC/Dados/pre-processing/georgia/nextpoi-input.csv\n"
     ]
    }
   ],
   "source": [
    "# georgia\n",
    "nextpoi_input_georgia = gen_nextpoi_input(embeddings_georgia, paths_georgia, max_sequences_per_user=50)"
   ]
  }
 ],
 "metadata": {
  "colab": {
   "collapsed_sections": [
    "Im87D-_Z-rxQ"
   ],
   "provenance": []
  },
  "kernelspec": {
   "display_name": "Python 3 (ipykernel)",
   "name": "python3",
   "language": "python"
  },
  "language_info": {
   "name": "python"
  }
 },
 "nbformat": 4,
 "nbformat_minor": 0
}
