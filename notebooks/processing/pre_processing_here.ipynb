{
 "cells": [
  {
   "cell_type": "code",
   "id": "b4ec4e6058e12d2d",
   "metadata": {
    "ExecuteTime": {
     "end_time": "2025-03-18T21:48:37.296537Z",
     "start_time": "2025-03-18T21:48:36.682930Z"
    }
   },
   "source": [
    "import numpy as np\n",
    "import pandas as pd\n",
    "from configs.paths import OUTPUT_ROOT"
   ],
   "outputs": [],
   "execution_count": 2
  },
  {
   "metadata": {
    "collapsed": true,
    "ExecuteTime": {
     "end_time": "2025-03-18T21:54:36.523287Z",
     "start_time": "2025-03-18T21:54:36.356101Z"
    }
   },
   "cell_type": "code",
   "source": [
    "STATE_NAME = 'alabama'\n",
    "df_embb = pd.read_csv(f'{OUTPUT_ROOT}/{STATE_NAME}/{STATE_NAME}-embeddings.csv')\n",
    "df_filter = pd.read_csv(f'{OUTPUT_ROOT}/{STATE_NAME}/{STATE_NAME}-filtrado.csv')\n",
    "output_path = f'{OUTPUT_ROOT}/{STATE_NAME}/pre-processing/'\n",
    "\n",
    "# create_input(df_embb, df_filter, output_path)"
   ],
   "id": "initial_id",
   "outputs": [],
   "execution_count": 15
  },
  {
   "metadata": {
    "ExecuteTime": {
     "end_time": "2025-03-18T22:13:23.805718Z",
     "start_time": "2025-03-18T22:13:23.802269Z"
    }
   },
   "cell_type": "code",
   "source": [
    "def generate_sequences(places_visited):\n",
    "    # Early return for short sequences\n",
    "    if len(places_visited) <= 5:\n",
    "        return 0\n",
    "\n",
    "    # Convert to NumPy array for better performance\n",
    "    places_array = np.array(places_visited)\n",
    "\n",
    "    # Calculate how many complete sequences we can have\n",
    "    num_sequences = (len(places_array) - 1) // 9 + 1\n",
    "\n",
    "    # Pre-allocate the result array\n",
    "    result = np.zeros((num_sequences, 10), dtype=int)\n",
    "\n",
    "    for i in range(num_sequences):\n",
    "        start_idx = i * 9\n",
    "\n",
    "        if len(places_array) >= start_idx + 10:\n",
    "            # We have enough elements for a full sequence\n",
    "            result[i] = places_array[start_idx:start_idx + 10]\n",
    "        else:\n",
    "            # We need padding\n",
    "            seq_len = len(places_array) - start_idx\n",
    "            padding = np.full(10 - seq_len, -1, dtype=int)\n",
    "            result[i] = np.concatenate([padding, places_array[start_idx:]])\n",
    "\n",
    "    # Convert back to a list of lists for compatibility\n",
    "    return result.tolist()"
   ],
   "id": "62b5258805c90f16",
   "outputs": [],
   "execution_count": 20
  },
  {
   "metadata": {
    "ExecuteTime": {
     "end_time": "2025-03-18T21:54:37.356188Z",
     "start_time": "2025-03-18T21:54:36.786348Z"
    }
   },
   "cell_type": "code",
   "outputs": [],
   "execution_count": 16,
   "source": [
    "output_folder = output_path\n",
    "\n",
    "category_path = f'{output_folder}/category.csv'\n",
    "next_path = f'{output_folder}/next_checkin.csv'\n",
    "\n",
    "#Processing Category\n",
    "df_embb.set_index('placeid', inplace=True)\n",
    "df_embb.to_csv(category_path)"
   ],
   "id": "e3d173f3b27ee206"
  },
  {
   "metadata": {
    "ExecuteTime": {
     "end_time": "2025-03-18T22:13:19.792182Z",
     "start_time": "2025-03-18T22:13:19.618296Z"
    }
   },
   "cell_type": "code",
   "source": [
    "#Processing Next\n",
    "df_filter['datetime'] = pd.to_datetime(df_filter['datetime'])\n",
    "df_filter.sort_values(by=['userid', 'datetime'])\n",
    "gpp_users = df_filter.groupby('userid').agg(list).reset_index()\n",
    "\n",
    "checking_by_user = gpp_users[['userid']].copy()\n",
    "checking_by_user['visit_sequence'] = gpp_users['placeid'].apply(generate_sequences, axis=1)\n",
    "checking_by_user = checking_by_user[checking_by_user['visit_sequence'] != 0]\n",
    "print(f'checkins_sequence_by_user shape{checking_by_user.shape}\\n')\n",
    "\n",
    "\n",
    "checking_by_user.set_index('userid', inplace=True)\n",
    "user_ids = checking_by_user.index.unique()\n",
    "print(f'total users: {len(user_ids)}\\n')\n",
    "\n",
    "embb = df_embb.drop(columns=['category'])\n",
    "list_embb = np.zeros(100)\n",
    "\n",
    "embb.iloc[-1] = list_embb.tolist() + [0]\n",
    "embb.iloc[-1,'category'] = 'None'\n",
    "\n",
    "\n",
    "\n",
    "\n",
    "\n"
   ],
   "id": "bc1e8b4797daf24e",
   "outputs": [
    {
     "ename": "NameError",
     "evalue": "name 'generate_sequences' is not defined",
     "output_type": "error",
     "traceback": [
      "\u001B[0;31m---------------------------------------------------------------------------\u001B[0m",
      "\u001B[0;31mNameError\u001B[0m                                 Traceback (most recent call last)",
      "Cell \u001B[0;32mIn[19], line 7\u001B[0m\n\u001B[1;32m      4\u001B[0m gpp_users \u001B[38;5;241m=\u001B[39m df_filter\u001B[38;5;241m.\u001B[39mgroupby(\u001B[38;5;124m'\u001B[39m\u001B[38;5;124muserid\u001B[39m\u001B[38;5;124m'\u001B[39m)\u001B[38;5;241m.\u001B[39magg(\u001B[38;5;28mlist\u001B[39m)\u001B[38;5;241m.\u001B[39mreset_index()\n\u001B[1;32m      6\u001B[0m checking_by_user \u001B[38;5;241m=\u001B[39m gpp_users[[\u001B[38;5;124m'\u001B[39m\u001B[38;5;124muserid\u001B[39m\u001B[38;5;124m'\u001B[39m]]\u001B[38;5;241m.\u001B[39mcopy()\n\u001B[0;32m----> 7\u001B[0m checking_by_user[\u001B[38;5;124m'\u001B[39m\u001B[38;5;124mvisit_sequence\u001B[39m\u001B[38;5;124m'\u001B[39m] \u001B[38;5;241m=\u001B[39m gpp_users[\u001B[38;5;124m'\u001B[39m\u001B[38;5;124mplaceid\u001B[39m\u001B[38;5;124m'\u001B[39m]\u001B[38;5;241m.\u001B[39mapply(\u001B[43mgenerate_sequences\u001B[49m, axis\u001B[38;5;241m=\u001B[39m\u001B[38;5;241m1\u001B[39m)\n\u001B[1;32m      8\u001B[0m checking_by_user \u001B[38;5;241m=\u001B[39m checking_by_user[checking_by_user[\u001B[38;5;124m'\u001B[39m\u001B[38;5;124mvisit_sequence\u001B[39m\u001B[38;5;124m'\u001B[39m] \u001B[38;5;241m!=\u001B[39m \u001B[38;5;241m0\u001B[39m]\n\u001B[1;32m      9\u001B[0m \u001B[38;5;28mprint\u001B[39m(\u001B[38;5;124mf\u001B[39m\u001B[38;5;124m'\u001B[39m\u001B[38;5;124mcheckins_sequence_by_user shape\u001B[39m\u001B[38;5;132;01m{\u001B[39;00mchecking_by_user\u001B[38;5;241m.\u001B[39mshape\u001B[38;5;132;01m}\u001B[39;00m\u001B[38;5;130;01m\\n\u001B[39;00m\u001B[38;5;124m'\u001B[39m)\n",
      "\u001B[0;31mNameError\u001B[0m: name 'generate_sequences' is not defined"
     ]
    }
   ],
   "execution_count": 19
  },
  {
   "metadata": {},
   "cell_type": "code",
   "outputs": [],
   "execution_count": null,
   "source": "",
   "id": "4509d6a823fde9d8"
  },
  {
   "metadata": {},
   "cell_type": "code",
   "outputs": [],
   "execution_count": null,
   "source": "",
   "id": "3d2b15f284b6b118"
  }
 ],
 "metadata": {
  "kernelspec": {
   "display_name": "Python 3",
   "language": "python",
   "name": "python3"
  },
  "language_info": {
   "codemirror_mode": {
    "name": "ipython",
    "version": 2
   },
   "file_extension": ".py",
   "mimetype": "text/x-python",
   "name": "python",
   "nbconvert_exporter": "python",
   "pygments_lexer": "ipython2",
   "version": "2.7.6"
  }
 },
 "nbformat": 4,
 "nbformat_minor": 5
}
