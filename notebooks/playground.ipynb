{
 "cells": [
  {
   "metadata": {
    "ExecuteTime": {
     "end_time": "2025-04-08T19:37:31.748575Z",
     "start_time": "2025-04-08T19:37:31.734995Z"
    }
   },
   "cell_type": "code",
   "source": [
    "import torch\n",
    "import torch.nn as nn\n",
    "import torch.nn.functional as F\n",
    "\n",
    "import torch\n",
    "import torch.nn as nn\n",
    "import torch.nn.functional as F\n",
    "\n",
    "\n",
    "class WindowClassifierWithTransformer(nn.Module):\n",
    "    def __init__(self, input_dim=3, hidden_dim=64, num_classes=7,\n",
    "                 num_layers=2, nhead=8, dropout=0.1, num_windows=9):\n",
    "        super(WindowClassifierWithTransformer, self).__init__()\n",
    "\n",
    "        self.embedding = nn.Linear(input_dim, hidden_dim)\n",
    "\n",
    "        self.positional_encoding = nn.Parameter(torch.randn(1, num_windows, hidden_dim))\n",
    "\n",
    "        encoder_layer = nn.TransformerEncoderLayer(d_model=hidden_dim, nhead=nhead, dropout=dropout)\n",
    "        self.transformer_encoder = nn.TransformerEncoder(encoder_layer, num_layers=num_layers)\n",
    "\n",
    "        self.classifier = nn.Linear(hidden_dim, num_classes)\n",
    "\n",
    "    def forward(self, x):\n",
    "        x = self.embedding(x)\n",
    "\n",
    "        x = x + self.positional_encoding\n",
    "\n",
    "        x = x.transpose(0, 1)\n",
    "\n",
    "        x = self.transformer_encoder(x)\n",
    "\n",
    "        x = x.transpose(0, 1)\n",
    "\n",
    "        logits = self.classifier(x)\n",
    "\n",
    "        probs = F.softmax(logits, dim=-1)\n",
    "        return probs\n",
    "\n",
    "\n",
    "# Example usage:\n",
    "if __name__ == \"__main__\":\n",
    "    # Create a sample input: batch_size=2, num_windows=9, input_dim=3\n",
    "    sample_input = torch.randn(2, 9, 3)\n",
    "\n",
    "    # Instantiate the classifier\n",
    "    model = WindowClassifierWithTransformer()\n",
    "\n",
    "    # Forward pass through the model\n",
    "    output = model(sample_input)\n",
    "    print(output.shape)  # Expected shape: (2, 9, 7)"
   ],
   "id": "e07699bdb27ade02",
   "outputs": [
    {
     "name": "stdout",
     "output_type": "stream",
     "text": [
      "torch.Size([2, 9, 7])\n"
     ]
    }
   ],
   "execution_count": 7
  },
  {
   "metadata": {
    "ExecuteTime": {
     "end_time": "2025-04-08T19:37:32.118621Z",
     "start_time": "2025-04-08T19:37:32.103591Z"
    }
   },
   "cell_type": "code",
   "source": [
    "x = torch.randn(32, 9, 3)  # Example input\n",
    "\n",
    "model = WindowClassifierWithTransformer()\n",
    "output = model(x)"
   ],
   "id": "a5624667ed0ca560",
   "outputs": [],
   "execution_count": 8
  },
  {
   "metadata": {
    "ExecuteTime": {
     "end_time": "2025-04-08T19:37:32.786163Z",
     "start_time": "2025-04-08T19:37:32.782933Z"
    }
   },
   "cell_type": "code",
   "source": "output.shape",
   "id": "bbc0c88b8201e7a7",
   "outputs": [
    {
     "data": {
      "text/plain": [
       "torch.Size([32, 9, 7])"
      ]
     },
     "execution_count": 9,
     "metadata": {},
     "output_type": "execute_result"
    }
   ],
   "execution_count": 9
  },
  {
   "metadata": {
    "ExecuteTime": {
     "end_time": "2025-04-08T19:50:50.714850Z",
     "start_time": "2025-04-08T19:50:50.705778Z"
    }
   },
   "cell_type": "code",
   "source": [
    "import torch\n",
    "import torch.nn as nn\n",
    "import torch.nn.functional as F\n",
    "\n",
    "# Cross-Stitch Unit\n",
    "class CrossStitchUnit(nn.Module):\n",
    "    def __init__(self):\n",
    "        super(CrossStitchUnit, self).__init__()\n",
    "        # Learnable alpha parameters (initialized to identity)\n",
    "        self.alpha = nn.Parameter(torch.tensor([[0.9, 0.1], [0.1, 0.9]], requires_grad=True))\n",
    "\n",
    "    def forward(self, a, b):\n",
    "        # a and b are features from each task branch\n",
    "        a_out = self.alpha[0, 0] * a + self.alpha[0, 1] * b\n",
    "        b_out = self.alpha[1, 0] * a + self.alpha[1, 1] * b\n",
    "        return a_out, b_out\n",
    "\n",
    "# A simple convolutional block\n",
    "class ConvBlock(nn.Module):\n",
    "    def __init__(self):\n",
    "        super(ConvBlock, self).__init__()\n",
    "        self.conv = nn.Conv2d(1, 16, kernel_size=3, padding=1)\n",
    "        self.pool = nn.MaxPool2d(2)\n",
    "\n",
    "    def forward(self, x):\n",
    "        return self.pool(F.relu(self.conv(x)))\n",
    "\n",
    "# Main Multi-Task Network with Cross-Stitch\n",
    "class CrossStitchNet(nn.Module):\n",
    "    def __init__(self):\n",
    "        super(CrossStitchNet, self).__init__()\n",
    "        # Task-specific initial blocks\n",
    "        self.taskA_conv1 = ConvBlock()\n",
    "        self.taskB_conv1 = ConvBlock()\n",
    "\n",
    "        # Cross-stitch unit after first conv layer\n",
    "        self.cross_stitch = CrossStitchUnit()\n",
    "\n",
    "        # Shared second conv block\n",
    "        self.taskA_conv2 = ConvBlock()\n",
    "        self.taskB_conv2 = ConvBlock()\n",
    "\n",
    "        # Task-specific heads\n",
    "        self.taskA_fc = nn.Linear(16 * 7 * 7, 10)  # For classification\n",
    "        self.taskB_fc = nn.Linear(16 * 7 * 7, 1)   # For regression\n",
    "\n",
    "    def forward(self, x):\n",
    "        a = self.taskA_conv1(x)\n",
    "        b = self.taskB_conv1(x)\n",
    "\n",
    "        # Cross-stitch blending\n",
    "        a, b = self.cross_stitch(a, b)\n",
    "\n",
    "        # Continue task-specific paths\n",
    "        a = self.taskA_conv2(a)\n",
    "        b = self.taskB_conv2(b)\n",
    "\n",
    "        # Flatten\n",
    "        a = a.view(a.size(0), -1)\n",
    "        b = b.view(b.size(0), -1)\n",
    "\n",
    "        # Final heads\n",
    "        outA = self.taskA_fc(a)\n",
    "        outB = self.taskB_fc(b)\n",
    "        return outA, outB"
   ],
   "id": "232717a0eadc78e7",
   "outputs": [],
   "execution_count": 10
  },
  {
   "metadata": {},
   "cell_type": "code",
   "outputs": [],
   "execution_count": null,
   "source": [
    "x = torch.randn(32, 1, 28, 28)  # Example input\n",
    "\n",
    "model = CrossStitchNet()\n",
    "output = model(x)"
   ],
   "id": "3095e80c46e1c29d"
  },
  {
   "metadata": {
    "ExecuteTime": {
     "end_time": "2025-04-08T19:51:15.421702Z",
     "start_time": "2025-04-08T19:51:15.418709Z"
    }
   },
   "cell_type": "code",
   "source": "output.shape",
   "id": "9c65aca2fc68d76d",
   "outputs": [
    {
     "data": {
      "text/plain": [
       "torch.Size([32, 9, 7])"
      ]
     },
     "execution_count": 12,
     "metadata": {},
     "output_type": "execute_result"
    }
   ],
   "execution_count": 12
  },
  {
   "metadata": {},
   "cell_type": "code",
   "outputs": [],
   "execution_count": null,
   "source": "",
   "id": "79376cba1b317c04"
  }
 ],
 "metadata": {
  "kernelspec": {
   "display_name": "Python 3",
   "language": "python",
   "name": "python3"
  },
  "language_info": {
   "codemirror_mode": {
    "name": "ipython",
    "version": 2
   },
   "file_extension": ".py",
   "mimetype": "text/x-python",
   "name": "python",
   "nbconvert_exporter": "python",
   "pygments_lexer": "ipython2",
   "version": "2.7.6"
  }
 },
 "nbformat": 4,
 "nbformat_minor": 5
}
